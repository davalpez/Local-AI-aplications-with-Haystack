{
 "cells": [
  {
   "cell_type": "markdown",
   "id": "b19fd9b5-d93d-42bf-ac5a-d1b6f563fe7c",
   "metadata": {},
   "source": [
    "# 3. Creating custom components in Haystack\n"
   ]
  },
  {
   "cell_type": "markdown",
   "id": "5c49639a",
   "metadata": {},
   "source": [
    "On this notebook, we will work with custome components done in Haystack. "
   ]
  },
  {
   "cell_type": "markdown",
   "id": "d32ee158",
   "metadata": {},
   "source": [
    "First of all, like previous notebooks, we load our .env file where we have some internal variables we will use to run certain functions."
   ]
  },
  {
   "cell_type": "code",
   "execution_count": 1,
   "id": "1a86426a",
   "metadata": {},
   "outputs": [],
   "source": [
    "import sys\n",
    "\n",
    "sys.path.append(\"..\")"
   ]
  },
  {
   "cell_type": "code",
   "execution_count": 2,
   "id": "75222381-4e42-438f-8e5e-d06aaf03f9d7",
   "metadata": {
    "height": 99
   },
   "outputs": [],
   "source": [
    "import warnings\n",
    "from helper import load_env\n",
    "\n",
    "warnings.filterwarnings('ignore')\n",
    "load_env()"
   ]
  },
  {
   "cell_type": "markdown",
   "id": "b33c7236",
   "metadata": {},
   "source": [
    "Let's import the main dependencies used "
   ]
  },
  {
   "cell_type": "code",
   "execution_count": 3,
   "id": "0ba8b60d-aa47-4581-b04e-5efb51ebfeb3",
   "metadata": {
    "height": 167
   },
   "outputs": [],
   "source": [
    "import requests\n",
    "\n",
    "from typing import List\n",
    "\n",
    "from haystack import Document, Pipeline, component\n",
    "from haystack.components.builders import PromptBuilder\n",
    "from haystack.components.generators.openai import OpenAIGenerator\n",
    "from haystack.components.fetchers import LinkContentFetcher\n",
    "from haystack.components.converters import HTMLToDocument"
   ]
  },
  {
   "cell_type": "markdown",
   "id": "04ea46f0-c25b-4655-baaa-28dd351545f1",
   "metadata": {},
   "source": [
    "## Custom Component Requirements\n",
    "\n"
   ]
  },
  {
   "cell_type": "markdown",
   "id": "b3976ba4",
   "metadata": {},
   "source": [
    "We have been using some ready-components before. As we can tell, components tipically have inputs and ouputs and run certain functions when called. We can tell then what constitues a component:\n",
    "* Has inputs and ouputs.\n",
    "* It is a class with the @component decorator.\n",
    "* Has a run() method with @component.output_types decorator.\n",
    "* Returns a dictionary.\n",
    "\n",
    "Let's create a very simple component."
   ]
  },
  {
   "cell_type": "markdown",
   "id": "6893b006",
   "metadata": {},
   "source": [
    "#### Build a Custom Component"
   ]
  },
  {
   "cell_type": "markdown",
   "id": "cd56a877",
   "metadata": {},
   "source": [
    "Our basic component has the needed decorators, requires a user_name string input and returns a dictionary."
   ]
  },
  {
   "cell_type": "code",
   "execution_count": 4,
   "id": "aac45560-854f-49ff-a922-1ae66f814c20",
   "metadata": {
    "height": 116
   },
   "outputs": [],
   "source": [
    "@component\n",
    "class Greeter:\n",
    "\n",
    "    @component.output_types(greeting=str)\n",
    "    def run(self, user_name: str):\n",
    "        return {\"greeting\": f\"Hello {user_name}\"}"
   ]
  },
  {
   "cell_type": "markdown",
   "id": "1c70499c-a376-484a-8543-6aa7fea52429",
   "metadata": {},
   "source": [
    "Let's run the component and confirm it runs smoothly :"
   ]
  },
  {
   "cell_type": "code",
   "execution_count": 5,
   "id": "2eed3129-6b20-4306-b24f-70f4fad48f1b",
   "metadata": {
    "height": 65
   },
   "outputs": [
    {
     "data": {
      "text/plain": [
       "{'greeting': 'Hello David'}"
      ]
     },
     "execution_count": 5,
     "metadata": {},
     "output_type": "execute_result"
    }
   ],
   "source": [
    "greeter = Greeter()\n",
    "\n",
    "greeter.run(user_name=\"David\")"
   ]
  },
  {
   "cell_type": "markdown",
   "id": "aad2009f",
   "metadata": {},
   "source": [
    "#### Creating our own Generator component"
   ]
  },
  {
   "cell_type": "markdown",
   "id": "f2aeb3c1",
   "metadata": {},
   "source": [
    "As we have in our own haystack library file, we want to have our own custom Generator component that comes from a personalized use of the original OpenAIGenerator().\n",
    "You may start seeing now in these notebook the next component where we automatically call phi-3-mini-4k as our generator : "
   ]
  },
  {
   "cell_type": "code",
   "execution_count": 11,
   "id": "f94b104e",
   "metadata": {},
   "outputs": [],
   "source": [
    "import haystack_lib\n",
    "\n",
    "phi_generator = haystack_lib.MiniPHILLM()"
   ]
  },
  {
   "cell_type": "markdown",
   "id": "f5b68d01-aeab-4460-98ee-0537bbc23271",
   "metadata": {},
   "source": [
    "#### Creating a dialogue pipeline with custom components :"
   ]
  },
  {
   "cell_type": "markdown",
   "id": "6e98e14e",
   "metadata": {},
   "source": [
    "Let's create a pipeline that will use some of our newly created components.\n",
    "\n",
    "We will use our **greeter** component to generate a simple line that we will add into a **template** used in the **prompt builder**. Then, we will pass this prompt into our new **phi-3-mini-4k generator**."
   ]
  },
  {
   "cell_type": "code",
   "execution_count": 16,
   "id": "92f65838-50ac-4634-af7a-d6874d75ce19",
   "metadata": {
    "height": 286
   },
   "outputs": [
    {
     "name": "stderr",
     "output_type": "stream",
     "text": [
      "PromptBuilder has 1 prompt variables, but `required_variables` is not set. By default, all prompt variables are treated as optional, which may lead to unintended behavior in multi-branch pipelines. To avoid unexpected execution, ensure that variables intended to be required are explicitly set in `required_variables`.\n"
     ]
    }
   ],
   "source": [
    "from haystack.utils import Secret\n",
    "\n",
    "greeter = Greeter()\n",
    "template = \"\"\" You will be given the beginning of a dialogue. \n",
    "Create a short play script using this as the start of the play.\n",
    "Start of dialogue: {{ dialogue }}\n",
    "Full script: \n",
    "\"\"\"\n",
    "prompt = PromptBuilder(template=template)\n",
    "phi_generator = haystack_lib.MiniPHILLM()"
   ]
  },
  {
   "cell_type": "markdown",
   "id": "ec65b09e",
   "metadata": {},
   "source": [
    "Now we will create our dialogue builder. We have to also add the created components and connect them. \n",
    "\n",
    "This time, we will need to specify certain connections : Our greeter will output a variable call a greeting, while the prompt builder is expecting a \"dialogue\" variable in its template. We need to point out that these will be connected."
   ]
  },
  {
   "cell_type": "code",
   "execution_count": 17,
   "id": "1a7d3bb9",
   "metadata": {},
   "outputs": [
    {
     "data": {
      "text/plain": [
       "<haystack.core.pipeline.pipeline.Pipeline object at 0x7452474336b0>\n",
       "🚅 Components\n",
       "  - greeter: Greeter\n",
       "  - prompt: PromptBuilder\n",
       "  - llm: MiniPHILLM\n",
       "🛤️ Connections\n",
       "  - greeter.greeting -> prompt.dialogue (str)\n",
       "  - prompt.prompt -> llm.prompt (str)"
      ]
     },
     "execution_count": 17,
     "metadata": {},
     "output_type": "execute_result"
    }
   ],
   "source": [
    "dialogue_builder = Pipeline()\n",
    "dialogue_builder.add_component(\"greeter\", greeter)\n",
    "dialogue_builder.add_component(\"prompt\", prompt)\n",
    "dialogue_builder.add_component(\"llm\", phi_generator)\n",
    "\n",
    "dialogue_builder.connect(\"greeter.greeting\", \"prompt.dialogue\")\n",
    "dialogue_builder.connect(\"prompt\", \"llm\")"
   ]
  },
  {
   "cell_type": "code",
   "execution_count": 18,
   "id": "88ae3b13-f2a3-48fc-9c18-bd1654cc251e",
   "metadata": {
    "height": 31
   },
   "outputs": [
    {
     "data": {
      "image/png": "[encoded data removed]",
      "text/plain": [
       "<IPython.core.display.Image object>"
      ]
     },
     "metadata": {},
     "output_type": "display_data"
    }
   ],
   "source": [
    "dialogue_builder.show()"
   ]
  },
  {
   "cell_type": "markdown",
   "id": "53e6e8ab",
   "metadata": {},
   "source": [
    "We can see that the stream of data looks fine, so we are now ready to run the pipeline :"
   ]
  },
  {
   "cell_type": "code",
   "execution_count": 19,
   "id": "e31ee703-6af6-4560-9e28-a057c06541d6",
   "metadata": {
    "height": 65
   },
   "outputs": [
    {
     "name": "stdout",
     "output_type": "stream",
     "text": [
      " Title: A Twist in Time\n",
      "\n",
      "Characters:\n",
      "- John (45) - A retired professor, living alone and missing his college friends.\n",
      "- David (28) - An ambitious young man who shares a mysterious connection with John's past.\n",
      "\n",
      "(Scene begins at John's cozy living room where he is sitting in an old armchair, reading a newspaper.)\n",
      "\n",
      "John: (Sighs deeply and speaks to himself) Hello David...\n",
      "\n",
      "(A sudden knock on the door startles him.)\n",
      "\n",
      "John: (Puts down the newspaper and walks towards the door) Who could that be at this hour?\n",
      "\n",
      "(Opens the door to reveal a young man, David, holding out his hand for an introduction.)\n",
      "\n",
      "David: Hi there! I'm sorry if it's inconvenient. My name is David. \n",
      "\n",
      "John: (Shakes hands) Well, hello David... It's not often we get visitors at this hour in my neighborhood. What brings you here?\n",
      "\n",
      "David: I live just two houses down and noticed that your mailbox was overflowing with letters. Thought I could lend a hand. \n",
      "\n",
      "John: (Nods appreciatively) That's very kind of you, David. Please come in.\n",
      "\n",
      "(They both enter John's living room where they start sorting the mail.)\n",
      "\n",
      "David: So, your name is John? It sounds familiar... Are you related to someone I might know?\n",
      "\n",
      "John: (Pauses) No, not that I can recall. Why do you ask?\n",
      "\n",
      "David: Well, there's something strange about this place - it feels oddly nostalgic. Like I've been here before. \n",
      "\n",
      "John: (Laughs lightly) Perhaps it's just the old neighborhood charm... But sure, let me show you around my humble abode.\n",
      "\n",
      "(As they continue talking and getting to know each other, both men become increasingly intrigued by their inexplicable connection.)\n",
      "\n",
      "John: (Staring at a framed photo on his mantelpiece) This... is something special. \n",
      "\n",
      "David: What's that?\n",
      "\n",
      "(John turns the photo towards David who notices an older woman, strikingly similar to herself.)\n",
      "\n",
      "David: Wait a second... That woman in the picture looks exactly like you!\n",
      "\n",
      "John: (Surprised) Do you know her? I never introduced my late wife before. She was quite the character. \n",
      "\n",
      "David: How did she look so much like me, John?\n",
      "\n",
      "(Their curiosity piqued, they embark on a journey through time, uncovering secrets from John's past and discovering their shared destiny.)\n",
      "\n",
      "John: (Ponders) Hello David... I think we might have more in common than just this neighborhood. \n",
      "\n",
      "David: Indeed, it feels like fate has brought us together for a reason. Let's find out what that is!\n",
      "\n",
      "(They continue to delve deeper into the mystery as they bond over shared memories and unforeseen adventures.)\n",
      "\n",
      "End of Act I.\n"
     ]
    }
   ],
   "source": [
    "dialogue = dialogue_builder.run({\"greeter\": {\"user_name\": \"David\"}})\n",
    "\n",
    "print(dialogue[\"llm\"][\"replies\"][0])"
   ]
  },
  {
   "cell_type": "markdown",
   "id": "62f3d9c4-3407-47d1-a5bf-0cb04abba62b",
   "metadata": {},
   "source": [
    "## Build a Hacker News Summarizer"
   ]
  },
  {
   "cell_type": "markdown",
   "id": "45f383bf",
   "metadata": {},
   "source": [
    "Hacker News is a website where we can find cyber security news. We can request a list of its latest news through hacker news' REST API.\n",
    "\n",
    "When we do a request here, we obtain a list of IDs refering to different news the website holds. Let's get that list and have a look of one of them :"
   ]
  },
  {
   "cell_type": "code",
   "execution_count": 20,
   "id": "34efc478",
   "metadata": {},
   "outputs": [],
   "source": [
    "trending_list = requests.get(\n",
    "        url=\"https://hacker-news.firebaseio.com/v0/topstories.json?print=pretty\"\n",
    "    )"
   ]
  },
  {
   "cell_type": "code",
   "execution_count": 24,
   "id": "602c88fa-ce22-46f9-9ae8-1bf49f2f6162",
   "metadata": {
    "height": 172
   },
   "outputs": [
    {
     "name": "stdout",
     "output_type": "stream",
     "text": [
      "{'by': 'smig0', 'descendants': 107, 'id': 44325861, 'kids': [44355497, 44354989, 44354349, 44354138, 44355249, 44354607, 44353350, 44353472, 44353555, 44354185, 44353451, 44353807], 'score': 181, 'time': 1750410320, 'title': 'New Linux udisks flaw lets attackers get root on major Linux distros', 'type': 'story', 'url': 'https://www.bleepingcomputer.com/news/linux/new-linux-udisks-flaw-lets-attackers-get-root-on-major-linux-distros/'}\n"
     ]
    }
   ],
   "source": [
    "\n",
    "post = requests.get(\n",
    "    url=f\"https://hacker-news.firebaseio.com/v0/item/{trending_list.json()[0]}.json?print=pretty\"\n",
    ")\n",
    "\n",
    "print(post.json())"
   ]
  },
  {
   "cell_type": "markdown",
   "id": "54fb714b",
   "metadata": {},
   "source": [
    "We would like to create now a component that could do a request to Hacker News' top stories.\n",
    "\n",
    "For this component, we will include a html conversion pipeline as most of the stories com from a Hacker News URL.\n",
    "\n",
    "When we go through our trending_list, we will have different type of posts. We will only save articles in the news fetcher that we will save in our article list. Some Hacker News articles don't have URL, so we will add the text into our list as well if that happens."
   ]
  },
  {
   "cell_type": "code",
   "execution_count": 25,
   "id": "2c137b62-9b91-4273-872b-e0010d03ad4f",
   "metadata": {
    "height": 683
   },
   "outputs": [],
   "source": [
    "@component\n",
    "class HackernewsNewestFetcher:\n",
    "    def __init__(self):\n",
    "        fetcher = LinkContentFetcher()\n",
    "        converter = HTMLToDocument()\n",
    "\n",
    "        html_conversion_pipeline = Pipeline()\n",
    "        html_conversion_pipeline.add_component(\"fetcher\", fetcher)\n",
    "        html_conversion_pipeline.add_component(\"converter\", converter)\n",
    "\n",
    "        html_conversion_pipeline.connect(\"fetcher\", \"converter\")\n",
    "        self.html_pipeline = html_conversion_pipeline\n",
    "        \n",
    "    @component.output_types(articles=List[Document])\n",
    "    def run(self, top_k: int):\n",
    "        articles = []\n",
    "        trending_list = requests.get(\n",
    "            url=\"https://hacker-news.firebaseio.com/v0/topstories.json?print=pretty\"\n",
    "        )\n",
    "        for id in trending_list.json()[0:top_k]:\n",
    "            post = requests.get(\n",
    "                url=f\"https://hacker-news.firebaseio.com/v0/item/{id}.json?print=pretty\"\n",
    "            )\n",
    "            if \"url\" in post.json():\n",
    "                try:\n",
    "                    article = self.html_pipeline.run(\n",
    "                        {\"fetcher\": {\"urls\": [post.json()[\"url\"]]}}\n",
    "                    )\n",
    "                    articles.append(article[\"converter\"][\"documents\"][0])\n",
    "                except:\n",
    "                    print(f\"Can't download {post}, skipped\")\n",
    "            elif \"text\" in post.json():\n",
    "                print(\"text in \",id)\n",
    "                try:\n",
    "                    articles.append(Document(content=post.json()[\"text\"], meta= {\"title\": post.json()[\"title\"]}))\n",
    "                except:\n",
    "                    print(f\"Can't download {post}, skipped\")\n",
    "        return {\"articles\": articles}"
   ]
  },
  {
   "cell_type": "markdown",
   "id": "4e803ba6",
   "metadata": {
    "height": 31
   },
   "source": [
    "To understand it better, let's run it separately :\n",
    "\n",
    "First, when we do request get, we get a certain number of IDs from hacker-news website. We will only get the top_k number, so from this long list we have, as we have in the example top_k=3, we will be running only through the four top components."
   ]
  },
  {
   "cell_type": "code",
   "execution_count": 26,
   "id": "d1c5f7ca",
   "metadata": {
    "height": 65
   },
   "outputs": [
    {
     "data": {
      "text/plain": [
       "[44325861,\n",
       " 44347425,\n",
       " 44320832,\n",
       " 44350322,\n",
       " 44331316,\n",
       " 44324596,\n",
       " 44326175,\n",
       " 44350002,\n",
       " 44349525,\n",
       " 44325673,\n",
       " 44351068,\n",
       " 44351028,\n",
       " 44353490,\n",
       " 44352311,\n",
       " 44351817,\n",
       " 44333149,\n",
       " 44318655,\n",
       " 44350450,\n",
       " 44353760,\n",
       " 44351487,\n",
       " 44352615,\n",
       " 44324616,\n",
       " 44351580,\n",
       " 44353137,\n",
       " 44328275,\n",
       " 44351798,\n",
       " 44354543,\n",
       " 44353182,\n",
       " 44320285,\n",
       " 44347973,\n",
       " 44349761,\n",
       " 44351998,\n",
       " 44333155,\n",
       " 44316093,\n",
       " 44350978,\n",
       " 44348448,\n",
       " 44352329,\n",
       " 44355046,\n",
       " 44354702,\n",
       " 44344708,\n",
       " 44331201,\n",
       " 44335583,\n",
       " 44307976,\n",
       " 44345334,\n",
       " 44312363,\n",
       " 44346450,\n",
       " 44352920,\n",
       " 44348813,\n",
       " 44350294,\n",
       " 44311141,\n",
       " 44353012,\n",
       " 44327554,\n",
       " 44353232,\n",
       " 44314203,\n",
       " 44353775,\n",
       " 44313739,\n",
       " 44328326,\n",
       " 44349117,\n",
       " 44344246,\n",
       " 44351962,\n",
       " 44352185,\n",
       " 44315968,\n",
       " 44318050,\n",
       " 44342977,\n",
       " 44352307,\n",
       " 44353910,\n",
       " 44338976,\n",
       " 44307667,\n",
       " 44350448,\n",
       " 44351881,\n",
       " 44328732,\n",
       " 44317242,\n",
       " 44345451,\n",
       " 44341281,\n",
       " 44352220,\n",
       " 44352430,\n",
       " 44314423,\n",
       " 44335517,\n",
       " 44350226,\n",
       " 44336015,\n",
       " 44323905,\n",
       " 44353334,\n",
       " 44351347,\n",
       " 44334167,\n",
       " 44352574,\n",
       " 44338562,\n",
       " 44308328,\n",
       " 44348649,\n",
       " 44341639,\n",
       " 44351977,\n",
       " 44312645,\n",
       " 44342731,\n",
       " 44344873,\n",
       " 44351341,\n",
       " 44339076,\n",
       " 44349845,\n",
       " 44335664,\n",
       " 44313722,\n",
       " 44346529,\n",
       " 44329712,\n",
       " 44352258,\n",
       " 44349662,\n",
       " 44315188,\n",
       " 44350529,\n",
       " 44353146,\n",
       " 44338862,\n",
       " 44340386,\n",
       " 44352496,\n",
       " 44310763,\n",
       " 44318728,\n",
       " 44350367,\n",
       " 44333960,\n",
       " 44331362,\n",
       " 44336381,\n",
       " 44309191,\n",
       " 44335065,\n",
       " 44333388,\n",
       " 44346359,\n",
       " 44352822,\n",
       " 44353071,\n",
       " 44354383,\n",
       " 44350814,\n",
       " 44309279,\n",
       " 44353301,\n",
       " 44309734,\n",
       " 44352446,\n",
       " 44344624,\n",
       " 44323562,\n",
       " 44320435,\n",
       " 44332699,\n",
       " 44307552,\n",
       " 44339596,\n",
       " 44308953,\n",
       " 44334403,\n",
       " 44331193,\n",
       " 44306892,\n",
       " 44314234,\n",
       " 44349949,\n",
       " 44298666,\n",
       " 44314305,\n",
       " 44335038,\n",
       " 44350097,\n",
       " 44339025,\n",
       " 44299680,\n",
       " 44323904,\n",
       " 44340081,\n",
       " 44349223,\n",
       " 44310996,\n",
       " 44300102,\n",
       " 44303767,\n",
       " 44307972,\n",
       " 44331518,\n",
       " 44304607,\n",
       " 44328598,\n",
       " 44334958,\n",
       " 44327173,\n",
       " 44324592,\n",
       " 44335907,\n",
       " 44317291,\n",
       " 44329457,\n",
       " 44315321,\n",
       " 44316678,\n",
       " 44314289,\n",
       " 44326620,\n",
       " 44351749,\n",
       " 44328114,\n",
       " 44326145,\n",
       " 44352455,\n",
       " 44323411,\n",
       " 44354333,\n",
       " 44311781,\n",
       " 44349474,\n",
       " 44319166,\n",
       " 44295725,\n",
       " 44303246,\n",
       " 44323253,\n",
       " 44351183,\n",
       " 44340790,\n",
       " 44352762,\n",
       " 44316909,\n",
       " 44314085,\n",
       " 44332170,\n",
       " 44291642,\n",
       " 44337902,\n",
       " 44329600,\n",
       " 44324084,\n",
       " 44320772,\n",
       " 44309320,\n",
       " 44307275,\n",
       " 44332221,\n",
       " 44301875,\n",
       " 44310944,\n",
       " 44321672,\n",
       " 44323719,\n",
       " 44341138,\n",
       " 44335519,\n",
       " 44311682,\n",
       " 44327759,\n",
       " 44311217,\n",
       " 44313107,\n",
       " 44339123,\n",
       " 44311393,\n",
       " 44348565,\n",
       " 44330850,\n",
       " 44313206,\n",
       " 44331125,\n",
       " 44353595,\n",
       " 44304634,\n",
       " 44297761,\n",
       " 44328894,\n",
       " 44353415,\n",
       " 44312501,\n",
       " 44329640,\n",
       " 44331898,\n",
       " 44323914,\n",
       " 44315443,\n",
       " 44323389,\n",
       " 44310851,\n",
       " 44340962,\n",
       " 44345054,\n",
       " 44350717,\n",
       " 44343840,\n",
       " 44337088,\n",
       " 44304107,\n",
       " 44317180,\n",
       " 44350616,\n",
       " 44314977,\n",
       " 44311776,\n",
       " 44299233,\n",
       " 44314759,\n",
       " 44353384,\n",
       " 44338182,\n",
       " 44297349,\n",
       " 44350476,\n",
       " 44306859,\n",
       " 44329449,\n",
       " 44318588,\n",
       " 44301998,\n",
       " 44328904,\n",
       " 44296523,\n",
       " 44302797,\n",
       " 44298360,\n",
       " 44341667,\n",
       " 44292965,\n",
       " 44307290,\n",
       " 44303542,\n",
       " 44351285,\n",
       " 44354298,\n",
       " 44331150,\n",
       " 44341522,\n",
       " 44317825,\n",
       " 44300854,\n",
       " 44303011,\n",
       " 44337182,\n",
       " 44320747,\n",
       " 44319144,\n",
       " 44297045,\n",
       " 44349907,\n",
       " 44297381,\n",
       " 44327468,\n",
       " 44301765,\n",
       " 44313379,\n",
       " 44345433,\n",
       " 44318874,\n",
       " 44310583,\n",
       " 44309208,\n",
       " 44302623,\n",
       " 44334963,\n",
       " 44314054,\n",
       " 44338089,\n",
       " 44301809,\n",
       " 44320050,\n",
       " 44303021,\n",
       " 44310678,\n",
       " 44313901,\n",
       " 44306792,\n",
       " 44303361,\n",
       " 44323045,\n",
       " 44350821,\n",
       " 44309520,\n",
       " 44335701,\n",
       " 44353408,\n",
       " 44306462,\n",
       " 44345407,\n",
       " 44313550,\n",
       " 44323083,\n",
       " 44317012,\n",
       " 44335920,\n",
       " 44300641,\n",
       " 44298656,\n",
       " 44336577,\n",
       " 44299354,\n",
       " 44311241,\n",
       " 44299979,\n",
       " 44307629,\n",
       " 44307445,\n",
       " 44339003,\n",
       " 44302704,\n",
       " 44324378,\n",
       " 44318420,\n",
       " 44309345,\n",
       " 44308711,\n",
       " 44350597,\n",
       " 44308558,\n",
       " 44291681,\n",
       " 44338309,\n",
       " 44300554,\n",
       " 44315529,\n",
       " 44297656,\n",
       " 44306041,\n",
       " 44294905,\n",
       " 44305271,\n",
       " 44320001,\n",
       " 44341676,\n",
       " 44298087,\n",
       " 44293610,\n",
       " 44299962,\n",
       " 44320497,\n",
       " 44302870,\n",
       " 44328032,\n",
       " 44333085,\n",
       " 44330613,\n",
       " 44334564,\n",
       " 44336540,\n",
       " 44340160,\n",
       " 44298673,\n",
       " 44293147,\n",
       " 44292460,\n",
       " 44348827,\n",
       " 44294853,\n",
       " 44303194,\n",
       " 44328405,\n",
       " 44309393,\n",
       " 44298724,\n",
       " 44345010,\n",
       " 44327937,\n",
       " 44319585,\n",
       " 44313652,\n",
       " 44293988,\n",
       " 44333187,\n",
       " 44306937,\n",
       " 44296564,\n",
       " 44299970,\n",
       " 44333337,\n",
       " 44338933,\n",
       " 44335464,\n",
       " 44341452,\n",
       " 44295096,\n",
       " 44338661,\n",
       " 44325611,\n",
       " 44327501,\n",
       " 44302752,\n",
       " 44330532,\n",
       " 44340461,\n",
       " 44345361,\n",
       " 44308984,\n",
       " 44300064,\n",
       " 44324457,\n",
       " 44298081,\n",
       " 44345289,\n",
       " 44310834,\n",
       " 44338134,\n",
       " 44318029,\n",
       " 44300095,\n",
       " 44301686,\n",
       " 44338169,\n",
       " 44352052,\n",
       " 44337597,\n",
       " 44332206,\n",
       " 44292103,\n",
       " 44293260,\n",
       " 44301660,\n",
       " 44312469,\n",
       " 44316263,\n",
       " 44323033,\n",
       " 44300717,\n",
       " 44309891,\n",
       " 44320099,\n",
       " 44316920,\n",
       " 44320851,\n",
       " 44329658,\n",
       " 44343084,\n",
       " 44328838,\n",
       " 44336282,\n",
       " 44318305,\n",
       " 44312175,\n",
       " 44328855,\n",
       " 44341564,\n",
       " 44341221,\n",
       " 44323123,\n",
       " 44291892,\n",
       " 44314372,\n",
       " 44349233,\n",
       " 44308179,\n",
       " 44320806,\n",
       " 44337225,\n",
       " 44313292,\n",
       " 44331500,\n",
       " 44324243,\n",
       " 44295333,\n",
       " 44315185,\n",
       " 44311968,\n",
       " 44325617,\n",
       " 44338122,\n",
       " 44295925,\n",
       " 44330172,\n",
       " 44317061,\n",
       " 44344601,\n",
       " 44329964,\n",
       " 44339903,\n",
       " 44332840,\n",
       " 44294633,\n",
       " 44328575,\n",
       " 44338001,\n",
       " 44335823,\n",
       " 44344043,\n",
       " 44339178,\n",
       " 44341306,\n",
       " 44349820,\n",
       " 44292601,\n",
       " 44326702,\n",
       " 44306624,\n",
       " 44295878,\n",
       " 44317117,\n",
       " 44309850,\n",
       " 44324212,\n",
       " 44345653,\n",
       " 44293455,\n",
       " 44331714,\n",
       " 44293044,\n",
       " 44323946,\n",
       " 44326738,\n",
       " 44336915,\n",
       " 44292652,\n",
       " 44336201,\n",
       " 44311404,\n",
       " 44299947,\n",
       " 44334605,\n",
       " 44313376,\n",
       " 44332459,\n",
       " 44310877,\n",
       " 44348620,\n",
       " 44322153,\n",
       " 44347122,\n",
       " 44312722,\n",
       " 44348442,\n",
       " 44331827,\n",
       " 44338968,\n",
       " 44326545,\n",
       " 44344936,\n",
       " 44321288,\n",
       " 44334629,\n",
       " 44291204,\n",
       " 44320389,\n",
       " 44313171,\n",
       " 44329490,\n",
       " 44329102,\n",
       " 44333940,\n",
       " 44307892,\n",
       " 44324017,\n",
       " 44349140,\n",
       " 44318188,\n",
       " 44295667,\n",
       " 44301868,\n",
       " 44340452,\n",
       " 44330585,\n",
       " 44298211,\n",
       " 44330462,\n",
       " 44328019,\n",
       " 44327942,\n",
       " 44327792,\n",
       " 44310704,\n",
       " 44317465,\n",
       " 44327546,\n",
       " 44317145,\n",
       " 44315179,\n",
       " 44351563,\n",
       " 44329527,\n",
       " 44327163,\n",
       " 44314006,\n",
       " 44331318,\n",
       " 44341199,\n",
       " 44301186,\n",
       " 44326654,\n",
       " 44330391,\n",
       " 44326407,\n",
       " 44321702,\n",
       " 44348886,\n",
       " 44308254,\n",
       " 44294526,\n",
       " 44348692,\n",
       " 44311253,\n",
       " 44319939,\n",
       " 44320847,\n",
       " 44326710,\n",
       " 44330431,\n",
       " 44302347,\n",
       " 44332568,\n",
       " 44301912,\n",
       " 44293922]"
      ]
     },
     "execution_count": 26,
     "metadata": {},
     "output_type": "execute_result"
    }
   ],
   "source": [
    "trending_list = requests.get(\n",
    "            url=\"https://hacker-news.firebaseio.com/v0/topstories.json?print=pretty\")\n",
    "trending_list.json()"
   ]
  },
  {
   "cell_type": "markdown",
   "id": "ba8c9a61",
   "metadata": {
    "height": 31
   },
   "source": [
    "We saw now the IDs. Now, we can see what the items look like when we get them in our post."
   ]
  },
  {
   "cell_type": "code",
   "execution_count": 27,
   "id": "8ecdc063",
   "metadata": {
    "height": 82
   },
   "outputs": [
    {
     "data": {
      "text/plain": [
       "{'by': 'sroy72',\n",
       " 'descendants': 0,\n",
       " 'id': 44138856,\n",
       " 'score': 5,\n",
       " 'time': 1748630261,\n",
       " 'title': 'Model-Preserving Adaptive Rounding',\n",
       " 'type': 'story',\n",
       " 'url': 'https://arxiv.org/abs/2505.22988'}"
      ]
     },
     "execution_count": 27,
     "metadata": {},
     "output_type": "execute_result"
    }
   ],
   "source": [
    "post = requests.get(\n",
    "                url=f\"https://hacker-news.firebaseio.com/v0/item/{44138856}.json?print=pretty\"\n",
    "            )\n",
    "post.json()"
   ]
  },
  {
   "cell_type": "markdown",
   "id": "c7f1a736",
   "metadata": {
    "height": 31
   },
   "source": [
    "We run this through our internal pipeline, and the result will be similar to what we will get once we run our new component : "
   ]
  },
  {
   "cell_type": "code",
   "execution_count": 28,
   "id": "b9b4eec2-35f8-47d2-bd11-3389e66a6549",
   "metadata": {
    "height": 82
   },
   "outputs": [
    {
     "name": "stdout",
     "output_type": "stream",
     "text": [
      "[Document(id=48ecbcc69b8f134a8b4a1171a6322bd56dd82fdb8e1ea726442e1329d72209f9, content: 'Attackers can exploit two newly discovered local privilege escalation (LPE) vulnerabilities to gain ...', meta: {'content_type': 'text/html', 'url': 'https://www.bleepingcomputer.com/news/linux/new-linux-udisks-flaw-lets-attackers-get-root-on-major-linux-distros/'}), Document(id=461b919813e8cd7da57088bffb0aa7d0857f563f161875ad93430b90fdb90fec, content: 'In May 2022, someone posted to Hacker News Bartosz\n",
      "Ciechanowski's\n",
      "blog post\n",
      "explaining how mechanica...', meta: {'content_type': 'text/html', 'url': 'https://fellerts.no/projects/epoch.html'})]\n"
     ]
    }
   ],
   "source": [
    "fetcher = HackernewsNewestFetcher()\n",
    "results = fetcher.run(top_k=2)\n",
    "\n",
    "print(results['articles'])"
   ]
  },
  {
   "cell_type": "markdown",
   "id": "180f3ddf",
   "metadata": {
    "height": 31
   },
   "source": [
    "Now, we will create a new pipeline including the new component we created."
   ]
  },
  {
   "cell_type": "code",
   "execution_count": 29,
   "id": "6550e471-da4c-4526-9010-acb20841975f",
   "metadata": {
    "height": 184
   },
   "outputs": [],
   "source": [
    "prompt_template = \"\"\"  \n",
    "You will be provided a few of the top posts in HackerNews.  \n",
    "For each post, provide a brief summary if possible.\n",
    "  \n",
    "Posts:  \n",
    "{% for article in articles %}\n",
    "  Post:\\n\n",
    "  {{ article.content}}\n",
    "{% endfor %}  \n",
    "\"\"\""
   ]
  },
  {
   "cell_type": "markdown",
   "id": "dff02122",
   "metadata": {},
   "source": [
    "We will create an extra optional component : **A time wrap component.**\n",
    "\n",
    "The time wrap component will encapsulate other components and will let us now how much time a component takes when running a pipeline. I have created this component as in our local environment, things don't always go as planned and it is a good tool for quick debugging.\n",
    "\n",
    "We shouldn't use these components normally as they make our pipelines inefficient, but they can be useful at early stages. We also have available logs and debugs, but for the sake of some extra practice we will go with them in this notebook :"
   ]
  },
  {
   "cell_type": "code",
   "execution_count": 30,
   "id": "90e1ee82",
   "metadata": {},
   "outputs": [],
   "source": [
    "import time\n",
    "from haystack.core.component import component, Component\n",
    "\n",
    "class TimedComponent(Component):\n",
    "    def __init__(self, component):\n",
    "        self.component = component\n",
    "        self.name = component.__class__.__name__\n",
    "\n",
    "    def run(self, **kwargs):\n",
    "        start = time.time()\n",
    "        result = self.component.run(**kwargs)\n",
    "        end = time.time()\n",
    "        print(f\"{self.name} took {end - start:.2f} seconds\")\n",
    "        return result\n",
    "\n",
    "    def __getattr__(self, attr):\n",
    "        return getattr(self.component, attr)\n"
   ]
  },
  {
   "cell_type": "markdown",
   "id": "33cea6df",
   "metadata": {},
   "source": [
    "Let's create now wrapped versions of the components we have for our Hacker News Summarizer pipeline."
   ]
  },
  {
   "cell_type": "code",
   "execution_count": 31,
   "id": "f2bcdf8a",
   "metadata": {},
   "outputs": [
    {
     "ename": "NameError",
     "evalue": "name 'prompt_builder' is not defined",
     "output_type": "error",
     "traceback": [
      "\u001b[0;31m---------------------------------------------------------------------------\u001b[0m",
      "\u001b[0;31mNameError\u001b[0m                                 Traceback (most recent call last)",
      "Cell \u001b[0;32mIn[31], line 1\u001b[0m\n\u001b[0;32m----> 1\u001b[0m wrapped_prompt_builder \u001b[38;5;241m=\u001b[39m TimedComponent(\u001b[43mprompt_builder\u001b[49m)\n\u001b[1;32m      2\u001b[0m wrapped_fetcher \u001b[38;5;241m=\u001b[39m TimedComponent(fetcher)\n\u001b[1;32m      3\u001b[0m wrapped_llm \u001b[38;5;241m=\u001b[39m TimedComponent(llm)\n",
      "\u001b[0;31mNameError\u001b[0m: name 'prompt_builder' is not defined"
     ]
    }
   ],
   "source": [
    "wrapped_prompt_builder = TimedComponent(prompt_builder)\n",
    "wrapped_fetcher = TimedComponent(fetcher)\n",
    "wrapped_llm = TimedComponent(llm)"
   ]
  },
  {
   "cell_type": "code",
   "execution_count": 97,
   "id": "083507e2",
   "metadata": {},
   "outputs": [
    {
     "name": "stderr",
     "output_type": "stream",
     "text": [
      "DEBUG - haystack.core.pipeline.base -  Adding component 'fetcher' (<__main__.TimedComponent object at 0x71ac375a0170>)\n",
      "DEBUG - haystack.core.pipeline.base -  Adding component 'prompt' (<__main__.TimedComponent object at 0x71ac27ce9a90>)\n",
      "DEBUG - haystack.core.pipeline.base -  Adding component 'llm' (<__main__.TimedComponent object at 0x71ac375a0230>)\n",
      "DEBUG - haystack.core.pipeline.base -  Connecting 'fetcher.articles' to 'prompt.articles'\n",
      "DEBUG - haystack.core.pipeline.base -  Connecting 'prompt.prompt' to 'llm.prompt'\n"
     ]
    },
    {
     "data": {
      "text/plain": [
       "<haystack.core.pipeline.pipeline.Pipeline object at 0x71ac27b76270>\n",
       "🚅 Components\n",
       "  - fetcher: TimedComponent\n",
       "  - prompt: TimedComponent\n",
       "  - llm: TimedComponent\n",
       "🛤️ Connections\n",
       "  - fetcher.articles -> prompt.articles (List[Document])\n",
       "  - prompt.prompt -> llm.prompt (str)"
      ]
     },
     "execution_count": 97,
     "metadata": {},
     "output_type": "execute_result"
    }
   ],
   "source": [
    "\n",
    "summarizer_pipeline = Pipeline()\n",
    "summarizer_pipeline.add_component(\"fetcher\", wrapped_fetcher)\n",
    "summarizer_pipeline.add_component(\"prompt\", wrapped_prompt_builder)\n",
    "summarizer_pipeline.add_component(\"llm\", wrapped_llm)\n",
    "\n",
    "summarizer_pipeline.connect(\"fetcher.articles\", \"prompt.articles\")\n",
    "summarizer_pipeline.connect(\"prompt\", \"llm\")"
   ]
  },
  {
   "cell_type": "code",
   "execution_count": null,
   "id": "6d8a7332-252a-42f7-8f63-841e4e87bc2f",
   "metadata": {
    "height": 201
   },
   "outputs": [
    {
     "name": "stderr",
     "output_type": "stream",
     "text": [
      "PromptBuilder has 1 prompt variables, but `required_variables` is not set. By default, all prompt variables are treated as optional, which may lead to unintended behavior in multi-branch pipelines. To avoid unexpected execution, ensure that variables intended to be required are explicitly set in `required_variables`.\n"
     ]
    },
    {
     "data": {
      "text/plain": [
       "<haystack.core.pipeline.pipeline.Pipeline object at 0x71ac34fc43b0>\n",
       "🚅 Components\n",
       "  - fetcher: HackernewsNewestFetcher\n",
       "  - prompt: PromptBuilder\n",
       "  - llm: OpenAIGenerator\n",
       "🛤️ Connections\n",
       "  - fetcher.articles -> prompt.articles (List[Document])\n",
       "  - prompt.prompt -> llm.prompt (str)"
      ]
     },
     "execution_count": 89,
     "metadata": {},
     "output_type": "execute_result"
    }
   ],
   "source": [
    "\n",
    "summarizer_pipeline = Pipeline()\n",
    "summarizer_pipeline.add_component(\"fetcher\", fetcher)\n",
    "summarizer_pipeline.add_component(\"prompt\", prompt_builder)\n",
    "summarizer_pipeline.add_component(\"llm\", llm)\n",
    "\n",
    "summarizer_pipeline.connect(\"fetcher.articles\", \"prompt.articles\")\n",
    "summarizer_pipeline.connect(\"prompt\", \"llm\")"
   ]
  },
  {
   "cell_type": "code",
   "execution_count": 90,
   "id": "75d00c67-37c1-47d7-8a93-f23c6f962218",
   "metadata": {
    "height": 31
   },
   "outputs": [
    {
     "data": {
      "image/png": "[encoded data removed]",
      "text/plain": [
       "<IPython.core.display.Image object>"
      ]
     },
     "metadata": {},
     "output_type": "display_data"
    }
   ],
   "source": [
    "summarizer_pipeline.show()"
   ]
  },
  {
   "cell_type": "code",
   "execution_count": 92,
   "id": "4c4f70fa",
   "metadata": {},
   "outputs": [],
   "source": [
    "import logging\n",
    "from haystack import tracing\n",
    "from haystack.tracing.logging_tracer import LoggingTracer\n",
    "\n",
    "logging.basicConfig(format=\"%(levelname)s - %(name)s -  %(message)s\", level=logging.WARNING)\n",
    "logging.getLogger(\"haystack\").setLevel(logging.DEBUG)\n",
    "\n",
    "tracing.tracer.is_content_tracing_enabled = True # to enable tracing/logging content (inputs/outputs)\n",
    "tracing.enable_tracing(LoggingTracer(tags_color_strings={\"haystack.component.input\": \"\\x1b[1;31m\", \"haystack.component.name\": \"\\x1b[1;34m\"}))"
   ]
  },
  {
   "cell_type": "code",
   "execution_count": null,
   "id": "25695e3a",
   "metadata": {},
   "outputs": [],
   "source": [
    "import logging\n",
    "import warnings\n",
    "\n",
    "logging.getLogger(\"haystack\").setLevel(logging.ERROR)\n",
    "logging.basicConfig(level=logging.ERROR)\n",
    "warnings.filterwarnings('ignore')"
   ]
  },
  {
   "cell_type": "code",
   "execution_count": 98,
   "id": "69ea7955-1ce9-4ce7-8c1c-d8f0289b52e6",
   "metadata": {
    "height": 65
   },
   "outputs": [
    {
     "name": "stderr",
     "output_type": "stream",
     "text": [
      "INFO - haystack.core.pipeline.pipeline -  Running component fetcher\n"
     ]
    },
    {
     "name": "stderr",
     "output_type": "stream",
     "text": [
      "INFO - haystack.core.pipeline.pipeline -  Running component fetcher\n",
      "DEBUG - haystack.tracing.logging_tracer -  Operation: haystack.component.run\n",
      "DEBUG - haystack.tracing.logging_tracer -  \u001b[1;34mhaystack.component.name=fetcher\u001b[0m\n",
      "DEBUG - haystack.tracing.logging_tracer -  haystack.component.type=LinkContentFetcher\u001b[0m\n",
      "DEBUG - haystack.tracing.logging_tracer -  haystack.component.input_types={'urls': 'list'}\u001b[0m\n",
      "DEBUG - haystack.tracing.logging_tracer -  haystack.component.input_spec={'urls': {'type': 'typing.List[str]', 'senders': []}}\u001b[0m\n",
      "DEBUG - haystack.tracing.logging_tracer -  haystack.component.output_spec={'streams': {'type': 'typing.List[haystack.dataclasses.byte_stream.ByteStream]', 'receivers': ['converter']}}\u001b[0m\n",
      "DEBUG - haystack.tracing.logging_tracer -  \u001b[1;31mhaystack.component.input={'urls': ['https://www.chemistryworld.com/opinion/benzene-at-200/4021504.article']}\u001b[0m\n",
      "DEBUG - haystack.tracing.logging_tracer -  haystack.component.visits=1\u001b[0m\n",
      "DEBUG - haystack.tracing.logging_tracer -  haystack.component.output={'streams': [ByteStream(data=b'\\r\\n<!DOCTYPE html>\\r\\n<html lang=\"en\">\\r\\n<head>\\r\\n\\t<meta charset=\"utf-8\">\\r\\n<link rel=\"preload\" as=\"style\"...', meta={'content_type': 'text/html', 'url': 'https://www.chemistryworld.com/opinion/benzene-at-200/4021504.article'}, mime_type='text/html')]}\u001b[0m\n",
      "INFO - haystack.core.pipeline.pipeline -  Running component converter\n",
      "DEBUG - haystack.tracing.logging_tracer -  Operation: haystack.component.run\n",
      "DEBUG - haystack.tracing.logging_tracer -  \u001b[1;34mhaystack.component.name=converter\u001b[0m\n",
      "DEBUG - haystack.tracing.logging_tracer -  haystack.component.type=HTMLToDocument\u001b[0m\n",
      "DEBUG - haystack.tracing.logging_tracer -  haystack.component.input_types={'sources': 'list', 'meta': 'NoneType', 'extraction_kwargs': 'NoneType'}\u001b[0m\n",
      "DEBUG - haystack.tracing.logging_tracer -  haystack.component.input_spec={'sources': {'type': 'typing.List[typing.Union[str, pathlib.Path, haystack.dataclasses.byte_stream.ByteStream]]', 'senders': ['fetcher']}, 'meta': {'type': 'typing.Union[typing.Dict[str, typing.Any], typing.List[typing.Dict[str, typing.Any]], NoneType]', 'senders': []}, 'extraction_kwargs': {'type': 'typing.Optional[typing.Dict[str, typing.Any]]', 'senders': []}}\u001b[0m\n",
      "DEBUG - haystack.tracing.logging_tracer -  haystack.component.output_spec={'documents': {'type': 'typing.List[haystack.dataclasses.document.Document]', 'receivers': []}}\u001b[0m\n",
      "DEBUG - haystack.tracing.logging_tracer -  \u001b[1;31mhaystack.component.input={'sources': [ByteStream(data=b'\\r\\n<!DOCTYPE html>\\r\\n<html lang=\"en\">\\r\\n<head>\\r\\n\\t<meta charset=\"utf-8\">\\r\\n<link rel=\"preload\" as=\"style\"...', meta={'content_type': 'text/html', 'url': 'https://www.chemistryworld.com/opinion/benzene-at-200/4021504.article'}, mime_type='text/html')], 'meta': None, 'extraction_kwargs': None}\u001b[0m\n",
      "DEBUG - haystack.tracing.logging_tracer -  haystack.component.visits=1\u001b[0m\n",
      "DEBUG - haystack.tracing.logging_tracer -  haystack.component.output={'documents': [Document(id=150111339dc62fb00f4f38d02d9d067693c5680c1b78ae09a311e73b579b42f4, content: 'Celebrating the molecule that changed the world\n",
      "In 1825, Michael Faraday discovered one of the most ...', meta: {'content_type': 'text/html', 'url': 'https://www.chemistryworld.com/opinion/benzene-at-200/4021504.article'})]}\u001b[0m\n",
      "DEBUG - haystack.tracing.logging_tracer -  Operation: haystack.pipeline.run\n",
      "DEBUG - haystack.tracing.logging_tracer -  haystack.pipeline.input_data={'fetcher': {'urls': ['https://www.chemistryworld.com/opinion/benzene-at-200/4021504.article']}}\u001b[0m\n",
      "DEBUG - haystack.tracing.logging_tracer -  haystack.pipeline.output_data={'converter': {'documents': [Document(id=150111339dc62fb00f4f38d02d9d067693c5680c1b78ae09a311e73b579b42f4, content: 'Celebrating the molecule that changed the world\n",
      "In 1825, Michael Faraday discovered one of the most ...', meta: {'content_type': 'text/html', 'url': 'https://www.chemistryworld.com/opinion/benzene-at-200/4021504.article'})]}}\u001b[0m\n",
      "DEBUG - haystack.tracing.logging_tracer -  haystack.pipeline.metadata={}\u001b[0m\n",
      "DEBUG - haystack.tracing.logging_tracer -  haystack.pipeline.max_runs_per_component=100\u001b[0m\n",
      "INFO - haystack.core.pipeline.pipeline -  Running component fetcher\n",
      "DEBUG - haystack.tracing.logging_tracer -  Operation: haystack.component.run\n",
      "DEBUG - haystack.tracing.logging_tracer -  \u001b[1;34mhaystack.component.name=fetcher\u001b[0m\n",
      "DEBUG - haystack.tracing.logging_tracer -  haystack.component.type=LinkContentFetcher\u001b[0m\n",
      "DEBUG - haystack.tracing.logging_tracer -  haystack.component.input_types={'urls': 'list'}\u001b[0m\n",
      "DEBUG - haystack.tracing.logging_tracer -  haystack.component.input_spec={'urls': {'type': 'typing.List[str]', 'senders': []}}\u001b[0m\n",
      "DEBUG - haystack.tracing.logging_tracer -  haystack.component.output_spec={'streams': {'type': 'typing.List[haystack.dataclasses.byte_stream.ByteStream]', 'receivers': ['converter']}}\u001b[0m\n",
      "DEBUG - haystack.tracing.logging_tracer -  \u001b[1;31mhaystack.component.input={'urls': ['https://turso.tech/blog/working-on-databases-from-prison']}\u001b[0m\n",
      "DEBUG - haystack.tracing.logging_tracer -  haystack.component.visits=1\u001b[0m\n",
      "DEBUG - haystack.tracing.logging_tracer -  haystack.component.output={'streams': [ByteStream(data=b'<!DOCTYPE html><html lang=\"en\" class=\"__variable_d65c78\"><head><meta charSet=\"utf-8\"/><meta name=\"vi...', meta={'content_type': 'text/html', 'url': 'https://turso.tech/blog/working-on-databases-from-prison'}, mime_type='text/html')]}\u001b[0m\n",
      "INFO - haystack.core.pipeline.pipeline -  Running component converter\n",
      "DEBUG - haystack.tracing.logging_tracer -  Operation: haystack.component.run\n",
      "DEBUG - haystack.tracing.logging_tracer -  \u001b[1;34mhaystack.component.name=converter\u001b[0m\n",
      "DEBUG - haystack.tracing.logging_tracer -  haystack.component.type=HTMLToDocument\u001b[0m\n",
      "DEBUG - haystack.tracing.logging_tracer -  haystack.component.input_types={'sources': 'list', 'meta': 'NoneType', 'extraction_kwargs': 'NoneType'}\u001b[0m\n",
      "DEBUG - haystack.tracing.logging_tracer -  haystack.component.input_spec={'sources': {'type': 'typing.List[typing.Union[str, pathlib.Path, haystack.dataclasses.byte_stream.ByteStream]]', 'senders': ['fetcher']}, 'meta': {'type': 'typing.Union[typing.Dict[str, typing.Any], typing.List[typing.Dict[str, typing.Any]], NoneType]', 'senders': []}, 'extraction_kwargs': {'type': 'typing.Optional[typing.Dict[str, typing.Any]]', 'senders': []}}\u001b[0m\n",
      "DEBUG - haystack.tracing.logging_tracer -  haystack.component.output_spec={'documents': {'type': 'typing.List[haystack.dataclasses.document.Document]', 'receivers': []}}\u001b[0m\n",
      "DEBUG - haystack.tracing.logging_tracer -  \u001b[1;31mhaystack.component.input={'sources': [ByteStream(data=b'<!DOCTYPE html><html lang=\"en\" class=\"__variable_d65c78\"><head><meta charSet=\"utf-8\"/><meta name=\"vi...', meta={'content_type': 'text/html', 'url': 'https://turso.tech/blog/working-on-databases-from-prison'}, mime_type='text/html')], 'meta': None, 'extraction_kwargs': None}\u001b[0m\n",
      "DEBUG - haystack.tracing.logging_tracer -  haystack.component.visits=1\u001b[0m\n",
      "DEBUG - haystack.tracing.logging_tracer -  haystack.component.output={'documents': [Document(id=4927a37cd10539afb476bdd99a67cfaffcaa20c630db9094ecee9ce42123638e, content: 'I'm very excited to announce that I have recently joined Turso as a software engineer. For many in t...', meta: {'content_type': 'text/html', 'url': 'https://turso.tech/blog/working-on-databases-from-prison'})]}\u001b[0m\n",
      "DEBUG - haystack.tracing.logging_tracer -  Operation: haystack.pipeline.run\n",
      "DEBUG - haystack.tracing.logging_tracer -  haystack.pipeline.input_data={'fetcher': {'urls': ['https://turso.tech/blog/working-on-databases-from-prison']}}\u001b[0m\n",
      "DEBUG - haystack.tracing.logging_tracer -  haystack.pipeline.output_data={'converter': {'documents': [Document(id=4927a37cd10539afb476bdd99a67cfaffcaa20c630db9094ecee9ce42123638e, content: 'I'm very excited to announce that I have recently joined Turso as a software engineer. For many in t...', meta: {'content_type': 'text/html', 'url': 'https://turso.tech/blog/working-on-databases-from-prison'})]}}\u001b[0m\n",
      "DEBUG - haystack.tracing.logging_tracer -  haystack.pipeline.metadata={}\u001b[0m\n",
      "DEBUG - haystack.tracing.logging_tracer -  haystack.pipeline.max_runs_per_component=100\u001b[0m\n",
      "DEBUG - haystack.tracing.logging_tracer -  Operation: haystack.component.run\n",
      "DEBUG - haystack.tracing.logging_tracer -  \u001b[1;34mhaystack.component.name=fetcher\u001b[0m\n",
      "DEBUG - haystack.tracing.logging_tracer -  haystack.component.type=TimedComponent\u001b[0m\n",
      "DEBUG - haystack.tracing.logging_tracer -  haystack.component.input_types={'top_k': 'int'}\u001b[0m\n",
      "DEBUG - haystack.tracing.logging_tracer -  haystack.component.input_spec={'top_k': {'type': 'int', 'senders': []}}\u001b[0m\n",
      "DEBUG - haystack.tracing.logging_tracer -  haystack.component.output_spec={'articles': {'type': 'typing.List[haystack.dataclasses.document.Document]', 'receivers': ['prompt']}}\u001b[0m\n",
      "DEBUG - haystack.tracing.logging_tracer -  \u001b[1;31mhaystack.component.input={'top_k': 2}\u001b[0m\n",
      "DEBUG - haystack.tracing.logging_tracer -  haystack.component.visits=1\u001b[0m\n",
      "DEBUG - haystack.tracing.logging_tracer -  haystack.component.output={'articles': [Document(id=150111339dc62fb00f4f38d02d9d067693c5680c1b78ae09a311e73b579b42f4, content: 'Celebrating the molecule that changed the world\n",
      "In 1825, Michael Faraday discovered one of the most ...', meta: {'content_type': 'text/html', 'url': 'https://www.chemistryworld.com/opinion/benzene-at-200/4021504.article'}), Document(id=4927a37cd10539afb476bdd99a67cfaffcaa20c630db9094ecee9ce42123638e, content: 'I'm very excited to announce that I have recently joined Turso as a software engineer. For many in t...', meta: {'content_type': 'text/html', 'url': 'https://turso.tech/blog/working-on-databases-from-prison'})]}\u001b[0m\n",
      "INFO - haystack.core.pipeline.pipeline -  Running component prompt\n",
      "DEBUG - haystack.tracing.logging_tracer -  Operation: haystack.component.run\n",
      "DEBUG - haystack.tracing.logging_tracer -  \u001b[1;34mhaystack.component.name=prompt\u001b[0m\n",
      "DEBUG - haystack.tracing.logging_tracer -  haystack.component.type=TimedComponent\u001b[0m\n",
      "DEBUG - haystack.tracing.logging_tracer -  haystack.component.input_types={'articles': 'list', 'template': 'NoneType', 'template_variables': 'NoneType'}\u001b[0m\n",
      "DEBUG - haystack.tracing.logging_tracer -  haystack.component.input_spec={'articles': {'type': 'Any', 'senders': ['fetcher']}, 'template': {'type': 'typing.Optional[str]', 'senders': []}, 'template_variables': {'type': 'typing.Optional[typing.Dict[str, typing.Any]]', 'senders': []}}\u001b[0m\n",
      "DEBUG - haystack.tracing.logging_tracer -  haystack.component.output_spec={'prompt': {'type': 'str', 'receivers': ['llm']}}\u001b[0m\n",
      "DEBUG - haystack.tracing.logging_tracer -  \u001b[1;31mhaystack.component.input={'articles': [Document(id=150111339dc62fb00f4f38d02d9d067693c5680c1b78ae09a311e73b579b42f4, content: 'Celebrating the molecule that changed the world\n",
      "In 1825, Michael Faraday discovered one of the most ...', meta: {'content_type': 'text/html', 'url': 'https://www.chemistryworld.com/opinion/benzene-at-200/4021504.article'}), Document(id=4927a37cd10539afb476bdd99a67cfaffcaa20c630db9094ecee9ce42123638e, content: 'I'm very excited to announce that I have recently joined Turso as a software engineer. For many in t...', meta: {'content_type': 'text/html', 'url': 'https://turso.tech/blog/working-on-databases-from-prison'})], 'template': None, 'template_variables': None}\u001b[0m\n",
      "DEBUG - haystack.tracing.logging_tracer -  haystack.component.visits=1\u001b[0m\n",
      "DEBUG - haystack.tracing.logging_tracer -  haystack.component.output={'prompt': \"  \\nYou will be provided a few of the top posts in HackerNews.  \\nFor each post, provide a brief summary if possible.\\n  \\nPosts:  \\n\\n  Post:\\n\\n  Celebrating the molecule that changed the world\\nIn 1825, Michael Faraday discovered one of the most fascinating compounds in chemistry: benzene. While isolating the components of oily residues of illuminating gas, Faraday identified a mysterious liquid, with a peculiar aromatic smell, which would go on to transform the landscape of chemistry.\\nWithin the pages of the Philosophical Transactions of the Royal Society of London, Faraday described this seemingly simple yet profoundly unique molecule. What set benzene apart, even in its earliest discovery, was its resistance to easy chemical classification. Its peculiar behaviour, such as its surprising stability despite being highly unsaturated, hinted at a deeper mystery that would not be fully resolved until the mid-19th century with the proposal of its cyclic structure.\\nBenzene’s physical properties only added to its mystique. This colourless liquid emitted a faintly sweet, intoxicating aroma – a hallmark of aromatic compounds. With a boiling point of 80.1°C, it was volatile and highly flammable, making it both a chemical curiosity and a potential industrial tool. Early chemists were captivated by its ability to dissolve fats, oils and other nonpolar substances, which made it a valuable solvent for experimentation and industrial processes. Yet, it was benzene’s chemical properties – its reactivity and stability – that would become the cornerstone of an entire branch of organic chemistry: aromatic compounds.\\nToday, benzene is everywhere, interwoven into the structures of more complex molecules that enhance our daily lives in fields as diverse as health, energy, advanced materials, electronics, food, dyes and biotechnology. This humble molecule opened the doors to a vast universe of aromatic compounds and an endless array of applications that have redefined our world.\\nStability and tunability\\nFollowing benzene’s legacy came polycyclic aromatic hydrocarbons (PAHs), a fascinating class of organic molecules composed of fused benzene rings. These structures not only preserve benzene’s aromatic stability, thanks to their electron delocalisation, but also exhibit unique electronic and optical properties determined by their size and arrangement. While smaller PAHs, like naphthalene and anthracene, had been characterised in the 19th century, the discovery of larger, more complex systems unveiled entirely new and surprising properties – from discrete energy levels in simpler molecules to semiconducting behaviours in larger systems like pentacene.\\nThe synthesis and study of these compounds paved the way for nanographenes, opening new dimensions in chemistry and materials science. Through meticulous control over their molecular structures, researchers have learned to design advanced materials with tunable properties, such as electron conductivity, fluorescence, chirality and chemical reactivity. This painstaking precision highlights the intrinsic beauty of chemistry at its most fundamental level, an art of exactitude that continues to push the boundaries of possibility.\\nA landmark achievement in this journey was the discovery of hexabenzocoronene (HBC), in 1958. This molecule, composed of 42 carbon atoms forming 13 hexagonal rings in a perfectly flat structure, remained the largest fully characterised polycyclic aromatic hydrocarbon for decades. Yet the creativity of organic chemistry knows no bounds. Klaus Müllen, a pioneer in the exploration of nanographenes, succeeded in 2002 in synthesising a remarkable structure formed by 222 carbon atoms with a diameter of 3nm, demonstrating the immense potential of organic synthesis to construct tailor-made graphene molecules.\\nGraphene stands out as the ultimate expression of benzene’s versatility\\nThe fusion of benzene rings has given rise to some of the most remarkable materials in modern science, including fullerenes and carbon nanotubes. Fullerenes, often referred to as buckyballs, are spherical molecules composed entirely of carbon atoms arranged in a pattern of hexagons and pentagons, resembling a molecular soccer ball. These structures, discovered in 1985, owe their stability and symmetry to the aromaticity derived from benzene-like rings. Similarly, carbon nanotubes – long, cylindrical structures composed of fused aromatic rings – have captivated scientists with their extraordinary strength, flexibility and electrical conductivity. Both fullerenes and nanotubes exemplify the limitless potential of carbon chemistry, with benzene as the foundational building block.\\nAmong these innovations, graphene stands out as the ultimate expression of benzene’s versatility. This two-dimensional material, consisting of a single layer of carbon atoms arranged in a honeycomb lattice, is essentially a sheet of fused benzene rings. Graphene’s remarkable properties – its transparency, strength, flexibility and electrical conductivity – have earned it the title of a ‘gift of gods’. Graphene, like benzene before it, has the power to revolutionise multiple fields, from electronics and energy storage to medicine and materials science.\\nBeyond its scientific impact, benzene holds a special place in education. Generations of high school and university students have been introduced to the elegance of its structure and the profound mystery surrounding its stability. The study of benzene serves as an accessible entry point for understanding broader concepts like aromaticity, resonance and molecular orbitals. By celebrating the bicentennial of its discovery, we honour not only the legacy of Faraday but also the enduring role of benzene in inspiring curiosity, innovation and the next generation of chemists.\\nTo celebrate the 200th anniversary of benzene’s discovery and its extraordinary legacy, the Royal Society of Chemistry will release a thematic special issue, uniting several RSC journals in a collaborative tribute to benzene’s unparalleled influence.\\nThis special issue, edited by Ben Feringa and Nazario Martín, will illuminate the enduring relevance of benzene by exploring its far-reaching legacy in carbon-based systems, from the fundamental concepts of aromaticity and antiaromaticity to groundbreaking research on polycyclic aromatic hydrocarbons (PAHs), molecular nanographenes (via both top-down and bottom-up approaches), graphene and its derivatives, carbon nanotubes and fullerenes. It will also delve into cutting-edge developments from (anti)aromatic compounds synthesised through on-surface methodologies to benzene-based molecular machines.\\nNo comments yet\\n\\n  Post:\\n\\n  I'm very excited to announce that I have recently joined Turso as a software engineer. For many in the field, including myself, getting to work on databases and solve unique challenges with such a talented team would be a dream job, but it is that much more special to me because of my unusual and unlikely circumstances. As difficult as it might be to believe, I am currently incarcerated and I landed this job from my cell in state prison. If you don’t know me, let me tell you more about how I got here.\\nNearly two years have passed since I published How I got here to my blog. That post was my first real contact with the outside world in years, as I'd been off all social media and the internet since 2017. The response and support I would receive from the tech community caught me completely off guard.\\nA brief summary is that I'm currently serving prison time for poor decisions and lifestyle choices I made in my twenties, all related to drugs. Three years ago, I enrolled in a prison college program that came with the unique opportunity to access a computer with limited internet access. This immediately reignited a teenage love for programming and a lightbulb immediately lit up: that this would be my way out of the mess I had gotten myself into over the past 15 years. I quickly outgrew the curriculum, preferring instead to spend ~15+ hours a day on projects and open source contributions.\\nThrough fortunate timing and lots of hard work, I was selected to be one of the first participants in the Maine Dept of Correction’s remote work program, where residents who meet certain requirements are allowed to seek out remote employment opportunities. I landed a software engineering job at a startup called Unlocked Labs building education solutions for incarcerated learners, while contributing to open source on the side. After just a year, I was leading their development team.\\nLast December I was between side-projects and browsing Hacker News when I discovered Project Limbo, an effort by Turso to rewrite SQLite from scratch. I'd never worked on relational databases, but some experience with a cache had recently sparked an interest in storage engines. Luckily for me I saw that the project was fairly young with plenty of low hanging fruit to cut my teeth on.\\nTo put this entirely into perspective for some of you may be difficult, but in prison there isn’t exactly a whole lot to do and programming absolutely consumes my life. I either write code or manage Kubernetes clusters or other infrastructure for about 90 hours a week, and my only entertainment is a daily hour of tech/programming YouTube; mostly consisting of The Primeagen, whose story was a huge inspiration to me early on.\\nThrough Prime, I had known about Turso since the beginning and had watched several interviews with Glauber and Pekka discussing their Linux kernel backgrounds and talking about the concept of distributed, multi-tenant SQLite. These were folks I'd looked up to for years and definitely could not have imagined that I would eventually be in any position to be contributing meaningfully to such an ambitious project of theirs. So needless to say, for those first PR's, just the thought of a kernel maintainer reviewing my code had made me quite nervous.\\nHelping build Limbo quickly became my new obsession. I split my time between my job and diving deep into SQLite source code, academic papers on database internals, and Andy Pavlo's CMU lectures. I was active on the Turso Discord but I don't think I considered whether anyone was aware that one of the top contributors was doing so from a prison cell. My story and information are linked on my GitHub, but it's subtle enough where you could miss it if you didn't read the whole profile. A couple months later, I got a Discord message from Glauber introducing himself and asking if we could meet.\\nIn January, Glauber's tweet about our interaction caught the attention of The Primeagen, and he ended up reading my blog post on his stream, bringing a whole lot of new attention to it.\\nTo this day I receive semi-regular emails either from developers, college kids or others who maybe have either gone through addiction or similar circumstances, or just want to reach out for advice on how to best start contributing to open source or optimize their learning path.\\nI'm incredibly proud to be an example to others of how far hard work, determination and discipline will get you, and will be forever grateful for the opportunities given to me by the Maine Dept of Corrections to even be able to work hard in the first place, and to Unlocked Labs for giving me a chance and hiring me at a time when most assuredly no-one else would.\\nI'm also incredibly proud to announce that I am now working for Turso full time, something I would never have dreamed would be possible just a few years ago, I'm very excited to be a part of the team and to get to help build the modern evolution of SQLite.\\nAlthough some recent bad news from the court means that I won't be coming home as early as my family and I had hoped, my only choice is to view this as a blessing and for the next 10 months, will instead just be able to continue to dedicate time and focus to advancing my career at such a level that just wouldn't be possible otherwise.\\nThank you to everyone who has taken the time to reach out over the past couple years, to my team at Unlocked Labs, and especially my parents. Thanks to Turso for the opportunity and to all the other companies with fair chance hiring policies who believe that people deserve a second chance. This journey has been totally surreal and every day I am still in awe of how far my life has come from the life I lived even just a few years ago.\\n  \"}\u001b[0m\n",
      "INFO - haystack.core.pipeline.pipeline -  Running component llm\n"
     ]
    },
    {
     "name": "stdout",
     "output_type": "stream",
     "text": [
      "HackernewsNewestFetcher took 2.06 seconds\n",
      "PromptBuilder took 0.00 seconds\n"
     ]
    },
    {
     "name": "stderr",
     "output_type": "stream",
     "text": [
      "DEBUG - haystack.tracing.logging_tracer -  Operation: haystack.component.run\n",
      "DEBUG - haystack.tracing.logging_tracer -  \u001b[1;34mhaystack.component.name=llm\u001b[0m\n",
      "DEBUG - haystack.tracing.logging_tracer -  haystack.component.type=TimedComponent\u001b[0m\n",
      "DEBUG - haystack.tracing.logging_tracer -  haystack.component.input_types={'prompt': 'str', 'system_prompt': 'NoneType', 'streaming_callback': 'NoneType', 'generation_kwargs': 'NoneType'}\u001b[0m\n",
      "DEBUG - haystack.tracing.logging_tracer -  haystack.component.input_spec={'prompt': {'type': 'str', 'senders': ['prompt']}, 'system_prompt': {'type': 'typing.Optional[str]', 'senders': []}, 'streaming_callback': {'type': 'typing.Optional[typing.Callable[[haystack.dataclasses.streaming_chunk.StreamingChunk], NoneType]]', 'senders': []}, 'generation_kwargs': {'type': 'typing.Optional[typing.Dict[str, typing.Any]]', 'senders': []}}\u001b[0m\n",
      "DEBUG - haystack.tracing.logging_tracer -  haystack.component.output_spec={'replies': {'type': 'typing.List[str]', 'receivers': []}, 'meta': {'type': 'typing.List[typing.Dict[str, typing.Any]]', 'receivers': []}}\u001b[0m\n",
      "DEBUG - haystack.tracing.logging_tracer -  \u001b[1;31mhaystack.component.input={'prompt': \"  \\nYou will be provided a few of the top posts in HackerNews.  \\nFor each post, provide a brief summary if possible.\\n  \\nPosts:  \\n\\n  Post:\\n\\n  Celebrating the molecule that changed the world\\nIn 1825, Michael Faraday discovered one of the most fascinating compounds in chemistry: benzene. While isolating the components of oily residues of illuminating gas, Faraday identified a mysterious liquid, with a peculiar aromatic smell, which would go on to transform the landscape of chemistry.\\nWithin the pages of the Philosophical Transactions of the Royal Society of London, Faraday described this seemingly simple yet profoundly unique molecule. What set benzene apart, even in its earliest discovery, was its resistance to easy chemical classification. Its peculiar behaviour, such as its surprising stability despite being highly unsaturated, hinted at a deeper mystery that would not be fully resolved until the mid-19th century with the proposal of its cyclic structure.\\nBenzene’s physical properties only added to its mystique. This colourless liquid emitted a faintly sweet, intoxicating aroma – a hallmark of aromatic compounds. With a boiling point of 80.1°C, it was volatile and highly flammable, making it both a chemical curiosity and a potential industrial tool. Early chemists were captivated by its ability to dissolve fats, oils and other nonpolar substances, which made it a valuable solvent for experimentation and industrial processes. Yet, it was benzene’s chemical properties – its reactivity and stability – that would become the cornerstone of an entire branch of organic chemistry: aromatic compounds.\\nToday, benzene is everywhere, interwoven into the structures of more complex molecules that enhance our daily lives in fields as diverse as health, energy, advanced materials, electronics, food, dyes and biotechnology. This humble molecule opened the doors to a vast universe of aromatic compounds and an endless array of applications that have redefined our world.\\nStability and tunability\\nFollowing benzene’s legacy came polycyclic aromatic hydrocarbons (PAHs), a fascinating class of organic molecules composed of fused benzene rings. These structures not only preserve benzene’s aromatic stability, thanks to their electron delocalisation, but also exhibit unique electronic and optical properties determined by their size and arrangement. While smaller PAHs, like naphthalene and anthracene, had been characterised in the 19th century, the discovery of larger, more complex systems unveiled entirely new and surprising properties – from discrete energy levels in simpler molecules to semiconducting behaviours in larger systems like pentacene.\\nThe synthesis and study of these compounds paved the way for nanographenes, opening new dimensions in chemistry and materials science. Through meticulous control over their molecular structures, researchers have learned to design advanced materials with tunable properties, such as electron conductivity, fluorescence, chirality and chemical reactivity. This painstaking precision highlights the intrinsic beauty of chemistry at its most fundamental level, an art of exactitude that continues to push the boundaries of possibility.\\nA landmark achievement in this journey was the discovery of hexabenzocoronene (HBC), in 1958. This molecule, composed of 42 carbon atoms forming 13 hexagonal rings in a perfectly flat structure, remained the largest fully characterised polycyclic aromatic hydrocarbon for decades. Yet the creativity of organic chemistry knows no bounds. Klaus Müllen, a pioneer in the exploration of nanographenes, succeeded in 2002 in synthesising a remarkable structure formed by 222 carbon atoms with a diameter of 3nm, demonstrating the immense potential of organic synthesis to construct tailor-made graphene molecules.\\nGraphene stands out as the ultimate expression of benzene’s versatility\\nThe fusion of benzene rings has given rise to some of the most remarkable materials in modern science, including fullerenes and carbon nanotubes. Fullerenes, often referred to as buckyballs, are spherical molecules composed entirely of carbon atoms arranged in a pattern of hexagons and pentagons, resembling a molecular soccer ball. These structures, discovered in 1985, owe their stability and symmetry to the aromaticity derived from benzene-like rings. Similarly, carbon nanotubes – long, cylindrical structures composed of fused aromatic rings – have captivated scientists with their extraordinary strength, flexibility and electrical conductivity. Both fullerenes and nanotubes exemplify the limitless potential of carbon chemistry, with benzene as the foundational building block.\\nAmong these innovations, graphene stands out as the ultimate expression of benzene’s versatility. This two-dimensional material, consisting of a single layer of carbon atoms arranged in a honeycomb lattice, is essentially a sheet of fused benzene rings. Graphene’s remarkable properties – its transparency, strength, flexibility and electrical conductivity – have earned it the title of a ‘gift of gods’. Graphene, like benzene before it, has the power to revolutionise multiple fields, from electronics and energy storage to medicine and materials science.\\nBeyond its scientific impact, benzene holds a special place in education. Generations of high school and university students have been introduced to the elegance of its structure and the profound mystery surrounding its stability. The study of benzene serves as an accessible entry point for understanding broader concepts like aromaticity, resonance and molecular orbitals. By celebrating the bicentennial of its discovery, we honour not only the legacy of Faraday but also the enduring role of benzene in inspiring curiosity, innovation and the next generation of chemists.\\nTo celebrate the 200th anniversary of benzene’s discovery and its extraordinary legacy, the Royal Society of Chemistry will release a thematic special issue, uniting several RSC journals in a collaborative tribute to benzene’s unparalleled influence.\\nThis special issue, edited by Ben Feringa and Nazario Martín, will illuminate the enduring relevance of benzene by exploring its far-reaching legacy in carbon-based systems, from the fundamental concepts of aromaticity and antiaromaticity to groundbreaking research on polycyclic aromatic hydrocarbons (PAHs), molecular nanographenes (via both top-down and bottom-up approaches), graphene and its derivatives, carbon nanotubes and fullerenes. It will also delve into cutting-edge developments from (anti)aromatic compounds synthesised through on-surface methodologies to benzene-based molecular machines.\\nNo comments yet\\n\\n  Post:\\n\\n  I'm very excited to announce that I have recently joined Turso as a software engineer. For many in the field, including myself, getting to work on databases and solve unique challenges with such a talented team would be a dream job, but it is that much more special to me because of my unusual and unlikely circumstances. As difficult as it might be to believe, I am currently incarcerated and I landed this job from my cell in state prison. If you don’t know me, let me tell you more about how I got here.\\nNearly two years have passed since I published How I got here to my blog. That post was my first real contact with the outside world in years, as I'd been off all social media and the internet since 2017. The response and support I would receive from the tech community caught me completely off guard.\\nA brief summary is that I'm currently serving prison time for poor decisions and lifestyle choices I made in my twenties, all related to drugs. Three years ago, I enrolled in a prison college program that came with the unique opportunity to access a computer with limited internet access. This immediately reignited a teenage love for programming and a lightbulb immediately lit up: that this would be my way out of the mess I had gotten myself into over the past 15 years. I quickly outgrew the curriculum, preferring instead to spend ~15+ hours a day on projects and open source contributions.\\nThrough fortunate timing and lots of hard work, I was selected to be one of the first participants in the Maine Dept of Correction’s remote work program, where residents who meet certain requirements are allowed to seek out remote employment opportunities. I landed a software engineering job at a startup called Unlocked Labs building education solutions for incarcerated learners, while contributing to open source on the side. After just a year, I was leading their development team.\\nLast December I was between side-projects and browsing Hacker News when I discovered Project Limbo, an effort by Turso to rewrite SQLite from scratch. I'd never worked on relational databases, but some experience with a cache had recently sparked an interest in storage engines. Luckily for me I saw that the project was fairly young with plenty of low hanging fruit to cut my teeth on.\\nTo put this entirely into perspective for some of you may be difficult, but in prison there isn’t exactly a whole lot to do and programming absolutely consumes my life. I either write code or manage Kubernetes clusters or other infrastructure for about 90 hours a week, and my only entertainment is a daily hour of tech/programming YouTube; mostly consisting of The Primeagen, whose story was a huge inspiration to me early on.\\nThrough Prime, I had known about Turso since the beginning and had watched several interviews with Glauber and Pekka discussing their Linux kernel backgrounds and talking about the concept of distributed, multi-tenant SQLite. These were folks I'd looked up to for years and definitely could not have imagined that I would eventually be in any position to be contributing meaningfully to such an ambitious project of theirs. So needless to say, for those first PR's, just the thought of a kernel maintainer reviewing my code had made me quite nervous.\\nHelping build Limbo quickly became my new obsession. I split my time between my job and diving deep into SQLite source code, academic papers on database internals, and Andy Pavlo's CMU lectures. I was active on the Turso Discord but I don't think I considered whether anyone was aware that one of the top contributors was doing so from a prison cell. My story and information are linked on my GitHub, but it's subtle enough where you could miss it if you didn't read the whole profile. A couple months later, I got a Discord message from Glauber introducing himself and asking if we could meet.\\nIn January, Glauber's tweet about our interaction caught the attention of The Primeagen, and he ended up reading my blog post on his stream, bringing a whole lot of new attention to it.\\nTo this day I receive semi-regular emails either from developers, college kids or others who maybe have either gone through addiction or similar circumstances, or just want to reach out for advice on how to best start contributing to open source or optimize their learning path.\\nI'm incredibly proud to be an example to others of how far hard work, determination and discipline will get you, and will be forever grateful for the opportunities given to me by the Maine Dept of Corrections to even be able to work hard in the first place, and to Unlocked Labs for giving me a chance and hiring me at a time when most assuredly no-one else would.\\nI'm also incredibly proud to announce that I am now working for Turso full time, something I would never have dreamed would be possible just a few years ago, I'm very excited to be a part of the team and to get to help build the modern evolution of SQLite.\\nAlthough some recent bad news from the court means that I won't be coming home as early as my family and I had hoped, my only choice is to view this as a blessing and for the next 10 months, will instead just be able to continue to dedicate time and focus to advancing my career at such a level that just wouldn't be possible otherwise.\\nThank you to everyone who has taken the time to reach out over the past couple years, to my team at Unlocked Labs, and especially my parents. Thanks to Turso for the opportunity and to all the other companies with fair chance hiring policies who believe that people deserve a second chance. This journey has been totally surreal and every day I am still in awe of how far my life has come from the life I lived even just a few years ago.\\n  \", 'system_prompt': None, 'streaming_callback': None, 'generation_kwargs': None}\u001b[0m\n",
      "DEBUG - haystack.tracing.logging_tracer -  haystack.component.visits=1\u001b[0m\n",
      "DEBUG - haystack.tracing.logging_tracer -  haystack.component.output={'replies': [' 8  - 1  to the short \\n\\n  4then molequelling to \\neach ode3nall, then:\\n \\n\\n\\n\\n\\n\\n\\n\\n\\n\\nmolec \\ntarring\\n\\n 10quinnally to 112\\n to  \\n\\nto \\n  Osmilepropet tos\\n a\\n   to-- -- -- to this \\n  (oxelled �lost:sown to find \\n\\n  to one.dand to change, tollunntecrebection �original the nature of several compands and the earliest to \\n allgo-111agnostic to  --untiluntiltoughtwelliverenutilye until until Until until this'], 'meta': [{'model': 'phi-3-mini-4k-instruct', 'index': 0, 'finish_reason': 'stop', 'usage': {'completion_tokens': 163, 'prompt_tokens': 2882, 'total_tokens': 3045, 'completion_tokens_details': None, 'prompt_tokens_details': None}}]}\u001b[0m\n",
      "DEBUG - haystack.tracing.logging_tracer -  Operation: haystack.pipeline.run\n",
      "DEBUG - haystack.tracing.logging_tracer -  haystack.pipeline.input_data={'fetcher': {'top_k': 2}}\u001b[0m\n",
      "DEBUG - haystack.tracing.logging_tracer -  haystack.pipeline.output_data={'llm': {'replies': [' 8  - 1  to the short \\n\\n  4then molequelling to \\neach ode3nall, then:\\n \\n\\n\\n\\n\\n\\n\\n\\n\\n\\nmolec \\ntarring\\n\\n 10quinnally to 112\\n to  \\n\\nto \\n  Osmilepropet tos\\n a\\n   to-- -- -- to this \\n  (oxelled �lost:sown to find \\n\\n  to one.dand to change, tollunntecrebection �original the nature of several compands and the earliest to \\n allgo-111agnostic to  --untiluntiltoughtwelliverenutilye until until Until until this'], 'meta': [{'model': 'phi-3-mini-4k-instruct', 'index': 0, 'finish_reason': 'stop', 'usage': {'completion_tokens': 163, 'prompt_tokens': 2882, 'total_tokens': 3045, 'completion_tokens_details': None, 'prompt_tokens_details': None}}]}}\u001b[0m\n",
      "DEBUG - haystack.tracing.logging_tracer -  haystack.pipeline.metadata={}\u001b[0m\n",
      "DEBUG - haystack.tracing.logging_tracer -  haystack.pipeline.max_runs_per_component=100\u001b[0m\n"
     ]
    },
    {
     "name": "stdout",
     "output_type": "stream",
     "text": [
      "OpenAIGenerator took 47.56 seconds\n",
      " 8  - 1  to the short \n",
      "\n",
      "  4then molequelling to \n",
      "each ode3nall, then:\n",
      " \n",
      "\n",
      "\n",
      "\n",
      "\n",
      "\n",
      "\n",
      "\n",
      "\n",
      "\n",
      "molec \n",
      "tarring\n",
      "\n",
      " 10quinnally to 112\n",
      " to  \n",
      "\n",
      "to \n",
      "  Osmilepropet tos\n",
      " a\n",
      "   to-- -- -- to this \n",
      "  (oxelled �lost:sown to find \n",
      "\n",
      "  to one.dand to change, tollunntecrebection �original the nature of several compands and the earliest to \n",
      " allgo-111agnostic to  --untiluntiltoughtwelliverenutilye until until Until until this\n"
     ]
    }
   ],
   "source": [
    "summaries = summarizer_pipeline.run({\"fetcher\": {\"top_k\": 2}})\n",
    "\n",
    "print(summaries[\"llm\"][\"replies\"][0])"
   ]
  },
  {
   "cell_type": "code",
   "execution_count": 109,
   "id": "b6d0a5e8-382f-484d-9834-facf87daf9fd",
   "metadata": {
    "height": 389
   },
   "outputs": [
    {
     "name": "stderr",
     "output_type": "stream",
     "text": [
      "WARNING - haystack.components.builders.prompt_builder -  PromptBuilder has 1 prompt variables, but `required_variables` is not set. By default, all prompt variables are treated as optional, which may lead to unintended behavior in multi-branch pipelines. To avoid unexpected execution, ensure that variables intended to be required are explicitly set in `required_variables`.\n",
      "DEBUG - haystack.core.pipeline.base -  Adding component 'fetcher' (<haystack.components.fetchers.link_content.LinkContentFetcher object at 0x71ac270190a0>\n",
      "\n",
      "Inputs:\n",
      "  - urls: List[str]\n",
      "Outputs:\n",
      "  - streams: List[ByteStream])\n",
      "DEBUG - haystack.core.pipeline.base -  Adding component 'converter' (<haystack.components.converters.html.HTMLToDocument object at 0x71ac27019670>\n",
      "\n",
      "Inputs:\n",
      "  - sources: List[Union[str, Path, ByteStream]]\n",
      "  - meta: Union[Dict[str, Any], List[Dict[str, Any]]]\n",
      "  - extraction_kwargs: Optional[Dict[str, Any]]\n",
      "Outputs:\n",
      "  - documents: List[Document])\n",
      "DEBUG - haystack.core.pipeline.base -  Connecting 'fetcher.streams' to 'converter.sources'\n",
      "DEBUG - haystack.core.pipeline.base -  Adding component 'fetcher' (<__main__.HackernewsNewestFetcher object at 0x71ac27ce87d0>\n",
      "\n",
      "Inputs:\n",
      "  - top_k: int\n",
      "Outputs:\n",
      "  - articles: List[Document])\n",
      "DEBUG - haystack.core.pipeline.base -  Adding component 'prompt' (<haystack.components.builders.prompt_builder.PromptBuilder object at 0x71ac27018380>\n",
      "\n",
      "Inputs:\n",
      "  - articles: Any\n",
      "  - template: Optional[str]\n",
      "  - template_variables: Optional[Dict[str, Any]]\n",
      "Outputs:\n",
      "  - prompt: str)\n",
      "DEBUG - haystack.core.pipeline.base -  Adding component 'llm' (<__main__.MiniPHILLM object at 0x71ac27ce8bc0>\n",
      "\n",
      "Inputs:\n",
      "  - prompt: str\n",
      "  - system_prompt: str\n",
      "  - generation_kwargs: dict\n",
      "Outputs:\n",
      ")\n",
      "DEBUG - haystack.core.pipeline.base -  Connecting 'fetcher.articles' to 'prompt.articles'\n",
      "DEBUG - haystack.core.pipeline.base -  Connecting 'prompt.prompt' to 'llm.prompt'\n"
     ]
    },
    {
     "data": {
      "text/plain": [
       "<haystack.core.pipeline.pipeline.Pipeline object at 0x71ac2701b1d0>\n",
       "🚅 Components\n",
       "  - fetcher: HackernewsNewestFetcher\n",
       "  - prompt: PromptBuilder\n",
       "  - llm: MiniPHILLM\n",
       "🛤️ Connections\n",
       "  - fetcher.articles -> prompt.articles (List[Document])\n",
       "  - prompt.prompt -> llm.prompt (str)"
      ]
     },
     "execution_count": 109,
     "metadata": {},
     "output_type": "execute_result"
    }
   ],
   "source": [
    "prompt_template = \"\"\"  \n",
    "You will be provided a few of the top posts in HackerNews, followed by their URL.  \n",
    "For each post, provide a brief summary followed by the URL the full post can be found at.  \n",
    "  \n",
    "Posts:  \n",
    "{% for article in articles %}  \n",
    "  {{ article.content }}\n",
    "  URL: {{ article.meta[\"url\"] }}\n",
    "{% endfor %}  \n",
    "\"\"\"\n",
    "\n",
    "prompt_builder = PromptBuilder(template=prompt_template)\n",
    "fetcher = HackernewsNewestFetcher()\n",
    "llm = MiniPHILLM()\n",
    "\n",
    "wrapped_prompt_builder = TimedComponent(prompt_builder)\n",
    "wrapped_fetcher = TimedComponent(fetcher)\n",
    "wrapped_llm = TimedComponent(llm)\n",
    "\n",
    "summarizer_pipeline = Pipeline()\n",
    "summarizer_pipeline.add_component(\"fetcher\", fetcher)\n",
    "summarizer_pipeline.add_component(\"prompt\", prompt_builder)\n",
    "summarizer_pipeline.add_component(\"llm\", llm)\n",
    "\n",
    "summarizer_pipeline.connect(\"fetcher.articles\", \"prompt.articles\")\n",
    "summarizer_pipeline.connect(\"prompt\", \"llm\")"
   ]
  },
  {
   "cell_type": "code",
   "execution_count": 110,
   "id": "d4c71d92-aff4-4118-be3d-4cd0de4039cf",
   "metadata": {
    "height": 65
   },
   "outputs": [
    {
     "name": "stderr",
     "output_type": "stream",
     "text": [
      "INFO - haystack.core.pipeline.pipeline -  Running component fetcher\n",
      "INFO - haystack.core.pipeline.pipeline -  Running component fetcher\n",
      "DEBUG - haystack.components.fetchers.link_content -  Switched user agent to haystack/LinkContentFetcher/2.13.2\n",
      "DEBUG - haystack.tracing.logging_tracer -  Operation: haystack.component.run\n",
      "DEBUG - haystack.tracing.logging_tracer -  \u001b[1;34mhaystack.component.name=fetcher\u001b[0m\n",
      "DEBUG - haystack.tracing.logging_tracer -  haystack.component.type=LinkContentFetcher\u001b[0m\n",
      "DEBUG - haystack.tracing.logging_tracer -  haystack.component.input_types={'urls': 'list'}\u001b[0m\n",
      "DEBUG - haystack.tracing.logging_tracer -  haystack.component.input_spec={'urls': {'type': 'typing.List[str]', 'senders': []}}\u001b[0m\n",
      "DEBUG - haystack.tracing.logging_tracer -  haystack.component.output_spec={'streams': {'type': 'typing.List[haystack.dataclasses.byte_stream.ByteStream]', 'receivers': ['converter']}}\u001b[0m\n",
      "DEBUG - haystack.tracing.logging_tracer -  \u001b[1;31mhaystack.component.input={'urls': ['https://www.chemistryworld.com/opinion/benzene-at-200/4021504.article']}\u001b[0m\n",
      "DEBUG - haystack.tracing.logging_tracer -  haystack.component.visits=1\u001b[0m\n",
      "DEBUG - haystack.tracing.logging_tracer -  haystack.component.output={'streams': [ByteStream(data=b'\\r\\n<!DOCTYPE html>\\r\\n<html lang=\"en\">\\r\\n<head>\\r\\n\\t<meta charset=\"utf-8\">\\r\\n<link rel=\"preload\" as=\"style\"...', meta={'content_type': 'text/html', 'url': 'https://www.chemistryworld.com/opinion/benzene-at-200/4021504.article'}, mime_type='text/html')]}\u001b[0m\n",
      "INFO - haystack.core.pipeline.pipeline -  Running component converter\n",
      "DEBUG - haystack.tracing.logging_tracer -  Operation: haystack.component.run\n",
      "DEBUG - haystack.tracing.logging_tracer -  \u001b[1;34mhaystack.component.name=converter\u001b[0m\n",
      "DEBUG - haystack.tracing.logging_tracer -  haystack.component.type=HTMLToDocument\u001b[0m\n",
      "DEBUG - haystack.tracing.logging_tracer -  haystack.component.input_types={'sources': 'list', 'meta': 'NoneType', 'extraction_kwargs': 'NoneType'}\u001b[0m\n",
      "DEBUG - haystack.tracing.logging_tracer -  haystack.component.input_spec={'sources': {'type': 'typing.List[typing.Union[str, pathlib.Path, haystack.dataclasses.byte_stream.ByteStream]]', 'senders': ['fetcher']}, 'meta': {'type': 'typing.Union[typing.Dict[str, typing.Any], typing.List[typing.Dict[str, typing.Any]], NoneType]', 'senders': []}, 'extraction_kwargs': {'type': 'typing.Optional[typing.Dict[str, typing.Any]]', 'senders': []}}\u001b[0m\n",
      "DEBUG - haystack.tracing.logging_tracer -  haystack.component.output_spec={'documents': {'type': 'typing.List[haystack.dataclasses.document.Document]', 'receivers': []}}\u001b[0m\n",
      "DEBUG - haystack.tracing.logging_tracer -  \u001b[1;31mhaystack.component.input={'sources': [ByteStream(data=b'\\r\\n<!DOCTYPE html>\\r\\n<html lang=\"en\">\\r\\n<head>\\r\\n\\t<meta charset=\"utf-8\">\\r\\n<link rel=\"preload\" as=\"style\"...', meta={'content_type': 'text/html', 'url': 'https://www.chemistryworld.com/opinion/benzene-at-200/4021504.article'}, mime_type='text/html')], 'meta': None, 'extraction_kwargs': None}\u001b[0m\n",
      "DEBUG - haystack.tracing.logging_tracer -  haystack.component.visits=1\u001b[0m\n",
      "DEBUG - haystack.tracing.logging_tracer -  haystack.component.output={'documents': [Document(id=150111339dc62fb00f4f38d02d9d067693c5680c1b78ae09a311e73b579b42f4, content: 'Celebrating the molecule that changed the world\n",
      "In 1825, Michael Faraday discovered one of the most ...', meta: {'content_type': 'text/html', 'url': 'https://www.chemistryworld.com/opinion/benzene-at-200/4021504.article'})]}\u001b[0m\n",
      "DEBUG - haystack.tracing.logging_tracer -  Operation: haystack.pipeline.run\n",
      "DEBUG - haystack.tracing.logging_tracer -  haystack.pipeline.input_data={'fetcher': {'urls': ['https://www.chemistryworld.com/opinion/benzene-at-200/4021504.article']}}\u001b[0m\n",
      "DEBUG - haystack.tracing.logging_tracer -  haystack.pipeline.output_data={'converter': {'documents': [Document(id=150111339dc62fb00f4f38d02d9d067693c5680c1b78ae09a311e73b579b42f4, content: 'Celebrating the molecule that changed the world\n",
      "In 1825, Michael Faraday discovered one of the most ...', meta: {'content_type': 'text/html', 'url': 'https://www.chemistryworld.com/opinion/benzene-at-200/4021504.article'})]}}\u001b[0m\n",
      "DEBUG - haystack.tracing.logging_tracer -  haystack.pipeline.metadata={}\u001b[0m\n",
      "DEBUG - haystack.tracing.logging_tracer -  haystack.pipeline.max_runs_per_component=100\u001b[0m\n",
      "DEBUG - haystack.tracing.logging_tracer -  Operation: haystack.component.run\n",
      "DEBUG - haystack.tracing.logging_tracer -  \u001b[1;34mhaystack.component.name=fetcher\u001b[0m\n",
      "DEBUG - haystack.tracing.logging_tracer -  haystack.component.type=HackernewsNewestFetcher\u001b[0m\n",
      "DEBUG - haystack.tracing.logging_tracer -  haystack.component.input_types={'top_k': 'int'}\u001b[0m\n",
      "DEBUG - haystack.tracing.logging_tracer -  haystack.component.input_spec={'top_k': {'type': 'int', 'senders': []}}\u001b[0m\n",
      "DEBUG - haystack.tracing.logging_tracer -  haystack.component.output_spec={'articles': {'type': 'typing.List[haystack.dataclasses.document.Document]', 'receivers': ['prompt']}}\u001b[0m\n",
      "DEBUG - haystack.tracing.logging_tracer -  \u001b[1;31mhaystack.component.input={'top_k': 1}\u001b[0m\n",
      "DEBUG - haystack.tracing.logging_tracer -  haystack.component.visits=1\u001b[0m\n",
      "DEBUG - haystack.tracing.logging_tracer -  haystack.component.output={'articles': [Document(id=150111339dc62fb00f4f38d02d9d067693c5680c1b78ae09a311e73b579b42f4, content: 'Celebrating the molecule that changed the world\n",
      "In 1825, Michael Faraday discovered one of the most ...', meta: {'content_type': 'text/html', 'url': 'https://www.chemistryworld.com/opinion/benzene-at-200/4021504.article'})]}\u001b[0m\n",
      "INFO - haystack.core.pipeline.pipeline -  Running component prompt\n",
      "DEBUG - haystack.tracing.logging_tracer -  Operation: haystack.component.run\n",
      "DEBUG - haystack.tracing.logging_tracer -  \u001b[1;34mhaystack.component.name=prompt\u001b[0m\n",
      "DEBUG - haystack.tracing.logging_tracer -  haystack.component.type=PromptBuilder\u001b[0m\n",
      "DEBUG - haystack.tracing.logging_tracer -  haystack.component.input_types={'articles': 'list', 'template': 'NoneType', 'template_variables': 'NoneType'}\u001b[0m\n",
      "DEBUG - haystack.tracing.logging_tracer -  haystack.component.input_spec={'articles': {'type': 'Any', 'senders': ['fetcher']}, 'template': {'type': 'typing.Optional[str]', 'senders': []}, 'template_variables': {'type': 'typing.Optional[typing.Dict[str, typing.Any]]', 'senders': []}}\u001b[0m\n",
      "DEBUG - haystack.tracing.logging_tracer -  haystack.component.output_spec={'prompt': {'type': 'str', 'receivers': ['llm']}}\u001b[0m\n",
      "DEBUG - haystack.tracing.logging_tracer -  \u001b[1;31mhaystack.component.input={'articles': [Document(id=150111339dc62fb00f4f38d02d9d067693c5680c1b78ae09a311e73b579b42f4, content: 'Celebrating the molecule that changed the world\n",
      "In 1825, Michael Faraday discovered one of the most ...', meta: {'content_type': 'text/html', 'url': 'https://www.chemistryworld.com/opinion/benzene-at-200/4021504.article'})], 'template': None, 'template_variables': None}\u001b[0m\n",
      "DEBUG - haystack.tracing.logging_tracer -  haystack.component.visits=1\u001b[0m\n",
      "DEBUG - haystack.tracing.logging_tracer -  haystack.component.output={'prompt': '  \\nYou will be provided a few of the top posts in HackerNews, followed by their URL.  \\nFor each post, provide a brief summary followed by the URL the full post can be found at.  \\n  \\nPosts:  \\n  \\n  Celebrating the molecule that changed the world\\nIn 1825, Michael Faraday discovered one of the most fascinating compounds in chemistry: benzene. While isolating the components of oily residues of illuminating gas, Faraday identified a mysterious liquid, with a peculiar aromatic smell, which would go on to transform the landscape of chemistry.\\nWithin the pages of the Philosophical Transactions of the Royal Society of London, Faraday described this seemingly simple yet profoundly unique molecule. What set benzene apart, even in its earliest discovery, was its resistance to easy chemical classification. Its peculiar behaviour, such as its surprising stability despite being highly unsaturated, hinted at a deeper mystery that would not be fully resolved until the mid-19th century with the proposal of its cyclic structure.\\nBenzene’s physical properties only added to its mystique. This colourless liquid emitted a faintly sweet, intoxicating aroma – a hallmark of aromatic compounds. With a boiling point of 80.1°C, it was volatile and highly flammable, making it both a chemical curiosity and a potential industrial tool. Early chemists were captivated by its ability to dissolve fats, oils and other nonpolar substances, which made it a valuable solvent for experimentation and industrial processes. Yet, it was benzene’s chemical properties – its reactivity and stability – that would become the cornerstone of an entire branch of organic chemistry: aromatic compounds.\\nToday, benzene is everywhere, interwoven into the structures of more complex molecules that enhance our daily lives in fields as diverse as health, energy, advanced materials, electronics, food, dyes and biotechnology. This humble molecule opened the doors to a vast universe of aromatic compounds and an endless array of applications that have redefined our world.\\nStability and tunability\\nFollowing benzene’s legacy came polycyclic aromatic hydrocarbons (PAHs), a fascinating class of organic molecules composed of fused benzene rings. These structures not only preserve benzene’s aromatic stability, thanks to their electron delocalisation, but also exhibit unique electronic and optical properties determined by their size and arrangement. While smaller PAHs, like naphthalene and anthracene, had been characterised in the 19th century, the discovery of larger, more complex systems unveiled entirely new and surprising properties – from discrete energy levels in simpler molecules to semiconducting behaviours in larger systems like pentacene.\\nThe synthesis and study of these compounds paved the way for nanographenes, opening new dimensions in chemistry and materials science. Through meticulous control over their molecular structures, researchers have learned to design advanced materials with tunable properties, such as electron conductivity, fluorescence, chirality and chemical reactivity. This painstaking precision highlights the intrinsic beauty of chemistry at its most fundamental level, an art of exactitude that continues to push the boundaries of possibility.\\nA landmark achievement in this journey was the discovery of hexabenzocoronene (HBC), in 1958. This molecule, composed of 42 carbon atoms forming 13 hexagonal rings in a perfectly flat structure, remained the largest fully characterised polycyclic aromatic hydrocarbon for decades. Yet the creativity of organic chemistry knows no bounds. Klaus Müllen, a pioneer in the exploration of nanographenes, succeeded in 2002 in synthesising a remarkable structure formed by 222 carbon atoms with a diameter of 3nm, demonstrating the immense potential of organic synthesis to construct tailor-made graphene molecules.\\nGraphene stands out as the ultimate expression of benzene’s versatility\\nThe fusion of benzene rings has given rise to some of the most remarkable materials in modern science, including fullerenes and carbon nanotubes. Fullerenes, often referred to as buckyballs, are spherical molecules composed entirely of carbon atoms arranged in a pattern of hexagons and pentagons, resembling a molecular soccer ball. These structures, discovered in 1985, owe their stability and symmetry to the aromaticity derived from benzene-like rings. Similarly, carbon nanotubes – long, cylindrical structures composed of fused aromatic rings – have captivated scientists with their extraordinary strength, flexibility and electrical conductivity. Both fullerenes and nanotubes exemplify the limitless potential of carbon chemistry, with benzene as the foundational building block.\\nAmong these innovations, graphene stands out as the ultimate expression of benzene’s versatility. This two-dimensional material, consisting of a single layer of carbon atoms arranged in a honeycomb lattice, is essentially a sheet of fused benzene rings. Graphene’s remarkable properties – its transparency, strength, flexibility and electrical conductivity – have earned it the title of a ‘gift of gods’. Graphene, like benzene before it, has the power to revolutionise multiple fields, from electronics and energy storage to medicine and materials science.\\nBeyond its scientific impact, benzene holds a special place in education. Generations of high school and university students have been introduced to the elegance of its structure and the profound mystery surrounding its stability. The study of benzene serves as an accessible entry point for understanding broader concepts like aromaticity, resonance and molecular orbitals. By celebrating the bicentennial of its discovery, we honour not only the legacy of Faraday but also the enduring role of benzene in inspiring curiosity, innovation and the next generation of chemists.\\nTo celebrate the 200th anniversary of benzene’s discovery and its extraordinary legacy, the Royal Society of Chemistry will release a thematic special issue, uniting several RSC journals in a collaborative tribute to benzene’s unparalleled influence.\\nThis special issue, edited by Ben Feringa and Nazario Martín, will illuminate the enduring relevance of benzene by exploring its far-reaching legacy in carbon-based systems, from the fundamental concepts of aromaticity and antiaromaticity to groundbreaking research on polycyclic aromatic hydrocarbons (PAHs), molecular nanographenes (via both top-down and bottom-up approaches), graphene and its derivatives, carbon nanotubes and fullerenes. It will also delve into cutting-edge developments from (anti)aromatic compounds synthesised through on-surface methodologies to benzene-based molecular machines.\\nNo comments yet\\n  URL: https://www.chemistryworld.com/opinion/benzene-at-200/4021504.article\\n  '}\u001b[0m\n",
      "INFO - haystack.core.pipeline.pipeline -  Running component llm\n",
      "DEBUG - haystack.tracing.logging_tracer -  Operation: haystack.component.run\n",
      "DEBUG - haystack.tracing.logging_tracer -  \u001b[1;34mhaystack.component.name=llm\u001b[0m\n",
      "DEBUG - haystack.tracing.logging_tracer -  haystack.component.type=MiniPHILLM\u001b[0m\n",
      "DEBUG - haystack.tracing.logging_tracer -  haystack.component.input_types={'prompt': 'str', 'system_prompt': 'NoneType', 'generation_kwargs': 'NoneType'}\u001b[0m\n",
      "DEBUG - haystack.tracing.logging_tracer -  haystack.component.input_spec={'prompt': {'type': 'str', 'senders': ['prompt']}, 'system_prompt': {'type': 'str', 'senders': []}, 'generation_kwargs': {'type': 'dict', 'senders': []}}\u001b[0m\n",
      "DEBUG - haystack.tracing.logging_tracer -  haystack.component.output_spec={}\u001b[0m\n",
      "DEBUG - haystack.tracing.logging_tracer -  \u001b[1;31mhaystack.component.input={'prompt': '  \\nYou will be provided a few of the top posts in HackerNews, followed by their URL.  \\nFor each post, provide a brief summary followed by the URL the full post can be found at.  \\n  \\nPosts:  \\n  \\n  Celebrating the molecule that changed the world\\nIn 1825, Michael Faraday discovered one of the most fascinating compounds in chemistry: benzene. While isolating the components of oily residues of illuminating gas, Faraday identified a mysterious liquid, with a peculiar aromatic smell, which would go on to transform the landscape of chemistry.\\nWithin the pages of the Philosophical Transactions of the Royal Society of London, Faraday described this seemingly simple yet profoundly unique molecule. What set benzene apart, even in its earliest discovery, was its resistance to easy chemical classification. Its peculiar behaviour, such as its surprising stability despite being highly unsaturated, hinted at a deeper mystery that would not be fully resolved until the mid-19th century with the proposal of its cyclic structure.\\nBenzene’s physical properties only added to its mystique. This colourless liquid emitted a faintly sweet, intoxicating aroma – a hallmark of aromatic compounds. With a boiling point of 80.1°C, it was volatile and highly flammable, making it both a chemical curiosity and a potential industrial tool. Early chemists were captivated by its ability to dissolve fats, oils and other nonpolar substances, which made it a valuable solvent for experimentation and industrial processes. Yet, it was benzene’s chemical properties – its reactivity and stability – that would become the cornerstone of an entire branch of organic chemistry: aromatic compounds.\\nToday, benzene is everywhere, interwoven into the structures of more complex molecules that enhance our daily lives in fields as diverse as health, energy, advanced materials, electronics, food, dyes and biotechnology. This humble molecule opened the doors to a vast universe of aromatic compounds and an endless array of applications that have redefined our world.\\nStability and tunability\\nFollowing benzene’s legacy came polycyclic aromatic hydrocarbons (PAHs), a fascinating class of organic molecules composed of fused benzene rings. These structures not only preserve benzene’s aromatic stability, thanks to their electron delocalisation, but also exhibit unique electronic and optical properties determined by their size and arrangement. While smaller PAHs, like naphthalene and anthracene, had been characterised in the 19th century, the discovery of larger, more complex systems unveiled entirely new and surprising properties – from discrete energy levels in simpler molecules to semiconducting behaviours in larger systems like pentacene.\\nThe synthesis and study of these compounds paved the way for nanographenes, opening new dimensions in chemistry and materials science. Through meticulous control over their molecular structures, researchers have learned to design advanced materials with tunable properties, such as electron conductivity, fluorescence, chirality and chemical reactivity. This painstaking precision highlights the intrinsic beauty of chemistry at its most fundamental level, an art of exactitude that continues to push the boundaries of possibility.\\nA landmark achievement in this journey was the discovery of hexabenzocoronene (HBC), in 1958. This molecule, composed of 42 carbon atoms forming 13 hexagonal rings in a perfectly flat structure, remained the largest fully characterised polycyclic aromatic hydrocarbon for decades. Yet the creativity of organic chemistry knows no bounds. Klaus Müllen, a pioneer in the exploration of nanographenes, succeeded in 2002 in synthesising a remarkable structure formed by 222 carbon atoms with a diameter of 3nm, demonstrating the immense potential of organic synthesis to construct tailor-made graphene molecules.\\nGraphene stands out as the ultimate expression of benzene’s versatility\\nThe fusion of benzene rings has given rise to some of the most remarkable materials in modern science, including fullerenes and carbon nanotubes. Fullerenes, often referred to as buckyballs, are spherical molecules composed entirely of carbon atoms arranged in a pattern of hexagons and pentagons, resembling a molecular soccer ball. These structures, discovered in 1985, owe their stability and symmetry to the aromaticity derived from benzene-like rings. Similarly, carbon nanotubes – long, cylindrical structures composed of fused aromatic rings – have captivated scientists with their extraordinary strength, flexibility and electrical conductivity. Both fullerenes and nanotubes exemplify the limitless potential of carbon chemistry, with benzene as the foundational building block.\\nAmong these innovations, graphene stands out as the ultimate expression of benzene’s versatility. This two-dimensional material, consisting of a single layer of carbon atoms arranged in a honeycomb lattice, is essentially a sheet of fused benzene rings. Graphene’s remarkable properties – its transparency, strength, flexibility and electrical conductivity – have earned it the title of a ‘gift of gods’. Graphene, like benzene before it, has the power to revolutionise multiple fields, from electronics and energy storage to medicine and materials science.\\nBeyond its scientific impact, benzene holds a special place in education. Generations of high school and university students have been introduced to the elegance of its structure and the profound mystery surrounding its stability. The study of benzene serves as an accessible entry point for understanding broader concepts like aromaticity, resonance and molecular orbitals. By celebrating the bicentennial of its discovery, we honour not only the legacy of Faraday but also the enduring role of benzene in inspiring curiosity, innovation and the next generation of chemists.\\nTo celebrate the 200th anniversary of benzene’s discovery and its extraordinary legacy, the Royal Society of Chemistry will release a thematic special issue, uniting several RSC journals in a collaborative tribute to benzene’s unparalleled influence.\\nThis special issue, edited by Ben Feringa and Nazario Martín, will illuminate the enduring relevance of benzene by exploring its far-reaching legacy in carbon-based systems, from the fundamental concepts of aromaticity and antiaromaticity to groundbreaking research on polycyclic aromatic hydrocarbons (PAHs), molecular nanographenes (via both top-down and bottom-up approaches), graphene and its derivatives, carbon nanotubes and fullerenes. It will also delve into cutting-edge developments from (anti)aromatic compounds synthesised through on-surface methodologies to benzene-based molecular machines.\\nNo comments yet\\n  URL: https://www.chemistryworld.com/opinion/benzene-at-200/4021504.article\\n  ', 'system_prompt': None, 'generation_kwargs': None}\u001b[0m\n",
      "DEBUG - haystack.tracing.logging_tracer -  haystack.component.visits=1\u001b[0m\n",
      "DEBUG - haystack.tracing.logging_tracer -  haystack.component.output={'replies': [\" The article celebrates the bicentennial of benzene's discovery, a key molecule that has played an integral role in shaping chemistry and materials science over two centuries. Discovered by Michael Faraday in 1825 while studying illuminating gas residues, benzene exhibited unique properties such as high stability despite being highly unsaturated and emitting a sweet, intoxicating aroma. These intriguing qualities led to further exploration of its derivatives, namely polycyclic aromatic hydrocarbenas (PAHs) and the development of nanographenes, fullerenes, carbon nanotubes, and graphene – materials that have revolutionized various fields from electronics to medicine.\\n\\nThe Royal Society of Chemistry is commemorating this landmark anniversary with a special issue edited by Ben Feringa and Nazario Martín that highlights the influence of benzene on carbon-based systems. The article emphasizes how benzene's discovery has inspired generations of students and researchers to further understand fundamental concepts like aromaticity, resonance, molecular orbitals, and explore novel applications of organic chemistry.\\n\\nURL: https://www.chemistryworld.com/opinion/benzene-at-200/4021504.article\"], 'meta': [{'model': 'phi-3-mini-4k-instruct', 'index': 0, 'finish_reason': 'stop', 'usage': {'completion_tokens': 292, 'prompt_tokens': 1628, 'total_tokens': 1920, 'completion_tokens_details': None, 'prompt_tokens_details': None}}]}\u001b[0m\n",
      "DEBUG - haystack.tracing.logging_tracer -  Operation: haystack.pipeline.run\n",
      "DEBUG - haystack.tracing.logging_tracer -  haystack.pipeline.input_data={'fetcher': {'top_k': 1}}\u001b[0m\n",
      "DEBUG - haystack.tracing.logging_tracer -  haystack.pipeline.output_data={'llm': {'replies': [\" The article celebrates the bicentennial of benzene's discovery, a key molecule that has played an integral role in shaping chemistry and materials science over two centuries. Discovered by Michael Faraday in 1825 while studying illuminating gas residues, benzene exhibited unique properties such as high stability despite being highly unsaturated and emitting a sweet, intoxicating aroma. These intriguing qualities led to further exploration of its derivatives, namely polycyclic aromatic hydrocarbenas (PAHs) and the development of nanographenes, fullerenes, carbon nanotubes, and graphene – materials that have revolutionized various fields from electronics to medicine.\\n\\nThe Royal Society of Chemistry is commemorating this landmark anniversary with a special issue edited by Ben Feringa and Nazario Martín that highlights the influence of benzene on carbon-based systems. The article emphasizes how benzene's discovery has inspired generations of students and researchers to further understand fundamental concepts like aromaticity, resonance, molecular orbitals, and explore novel applications of organic chemistry.\\n\\nURL: https://www.chemistryworld.com/opinion/benzene-at-200/4021504.article\"], 'meta': [{'model': 'phi-3-mini-4k-instruct', 'index': 0, 'finish_reason': 'stop', 'usage': {'completion_tokens': 292, 'prompt_tokens': 1628, 'total_tokens': 1920, 'completion_tokens_details': None, 'prompt_tokens_details': None}}]}}\u001b[0m\n",
      "DEBUG - haystack.tracing.logging_tracer -  haystack.pipeline.metadata={}\u001b[0m\n",
      "DEBUG - haystack.tracing.logging_tracer -  haystack.pipeline.max_runs_per_component=100\u001b[0m\n"
     ]
    },
    {
     "name": "stdout",
     "output_type": "stream",
     "text": [
      " The article celebrates the bicentennial of benzene's discovery, a key molecule that has played an integral role in shaping chemistry and materials science over two centuries. Discovered by Michael Faraday in 1825 while studying illuminating gas residues, benzene exhibited unique properties such as high stability despite being highly unsaturated and emitting a sweet, intoxicating aroma. These intriguing qualities led to further exploration of its derivatives, namely polycyclic aromatic hydrocarbenas (PAHs) and the development of nanographenes, fullerenes, carbon nanotubes, and graphene – materials that have revolutionized various fields from electronics to medicine.\n",
      "\n",
      "The Royal Society of Chemistry is commemorating this landmark anniversary with a special issue edited by Ben Feringa and Nazario Martín that highlights the influence of benzene on carbon-based systems. The article emphasizes how benzene's discovery has inspired generations of students and researchers to further understand fundamental concepts like aromaticity, resonance, molecular orbitals, and explore novel applications of organic chemistry.\n",
      "\n",
      "URL: https://www.chemistryworld.com/opinion/benzene-at-200/4021504.article\n"
     ]
    }
   ],
   "source": [
    "summaries = summarizer_pipeline.run({\"fetcher\": {\"top_k\": 1}})\n",
    "\n",
    "print(summaries[\"llm\"][\"replies\"][0])"
   ]
  },
  {
   "cell_type": "markdown",
   "id": "db6ba161",
   "metadata": {},
   "source": [
    "### Extra resources! \n",
    "\n",
    "Learn more about the Haystack integrations:\n",
    "\n",
    "* [deepset-ai github repo](https://github.com/deepset-ai/haystack-integrations)\n",
    "* [haystack.deepset.ai/integrations](https://haystack.deepset.ai/integrations)"
   ]
  },
  {
   "cell_type": "code",
   "execution_count": null,
   "id": "824831c7-7ff3-47ef-8405-55b9b30a1ae2",
   "metadata": {
    "height": 31
   },
   "outputs": [],
   "source": []
  },
  {
   "cell_type": "code",
   "execution_count": null,
   "id": "20cf5e9c-705f-4759-96b6-5df37f42ae27",
   "metadata": {
    "height": 31
   },
   "outputs": [],
   "source": []
  },
  {
   "cell_type": "code",
   "execution_count": null,
   "id": "debdf3e3-33cd-4e22-9c7b-123b71ff681a",
   "metadata": {
    "height": 31
   },
   "outputs": [],
   "source": []
  },
  {
   "cell_type": "code",
   "execution_count": null,
   "id": "76ce245c-2ce5-441b-8979-9b376cc46c58",
   "metadata": {
    "height": 31
   },
   "outputs": [],
   "source": []
  },
  {
   "cell_type": "code",
   "execution_count": null,
   "id": "23ba71cc-2675-428a-a3de-417112ce1151",
   "metadata": {
    "height": 31
   },
   "outputs": [],
   "source": []
  }
 ],
 "metadata": {
  "kernelspec": {
   "display_name": "venv39gpu",
   "language": "python",
   "name": "python3"
  },
  "language_info": {
   "codemirror_mode": {
    "name": "ipython",
    "version": 3
   },
   "file_extension": ".py",
   "mimetype": "text/x-python",
   "name": "python",
   "nbconvert_exporter": "python",
   "pygments_lexer": "ipython3",
   "version": "3.12.3"
  }
 },
 "nbformat": 4,
 "nbformat_minor": 5
}
