{
 "cells": [
  {
   "cell_type": "markdown",
   "id": "074cb0ae-eeb1-4082-acee-1b4c93c4fcc4",
   "metadata": {},
   "source": [
    "# 1. Basics components in Haystack"
   ]
  },
  {
   "cell_type": "markdown",
   "id": "26794ac5",
   "metadata": {},
   "source": [
    "In this notebook, we will explore the basic components of the Haystack library. We'll examine what these components are, how they work, and how we can use them to build pipelines.\n",
    "\n",
    "To begin, let's ask: What is Haystack, and why should we use it?\n",
    "\n",
    "Haystack is an open source AI framework that enables efficient fetching, storing, and retrieval of documentation with high accuracy and precision. Its modular architecture, permissive licensing, and model-agnostic design make it an excellent starting point for building Retrieval-Augmented Generation (RAG) pipelines and other AI applications. Whether we are enhancing existing systems or developing new ones, Haystack can help us creating solid documented-base application that integrates intelligent search capabilities.\n",
    "\n"
   ]
  },
  {
   "cell_type": "markdown",
   "id": "a00d35bc",
   "metadata": {},
   "source": [
    "[DeeplearnignAI](https://learn.deeplearning.ai/courses/building-ai-applications-with-haystack) offers on their website some courses that rely on Haystack to build some simple AI applications. These notebooks are direclty based on this course and aim to provide some extra information and are run locally. In Deeplearning AI, you will run the code in online notebooks that will provide you some API keys to paid online models.\n",
    "\n",
    "When running the notebooks on this repository, we will try to use free and open source material that we will fit thanks to the open compatibility Haystack provides.\n",
    "\n",
    "So, before anything, make sure you will check these elements:\n",
    "* You have LMStuido or another application that has your desired LM running and reachable wherever you are running this notebook **our** you have an API key to any model and internet connection to reach it.\n",
    "\n",
    "* You have the haystack library installed ( haystack-ai and haystack-experimental)\n"
   ]
  },
  {
   "cell_type": "code",
   "execution_count": 3,
   "id": "4866363c",
   "metadata": {},
   "outputs": [
    {
     "name": "stdout",
     "output_type": "stream",
     "text": [
      "cohere-haystack           4.2.1\n",
      "haystack-ai               2.14.2\n",
      "haystack-experimental     0.10.0\n",
      "Note: you may need to restart the kernel to use updated packages.\n"
     ]
    }
   ],
   "source": [
    "%pip list | grep haystack"
   ]
  },
  {
   "cell_type": "markdown",
   "id": "3f542dc3",
   "metadata": {},
   "source": [
    "Let's start with the basic imports :"
   ]
  },
  {
   "cell_type": "code",
   "execution_count": 1,
   "id": "b7a24ae1-bbd9-4d99-9cfe-c7d7cb4a3013",
   "metadata": {
    "height": 47
   },
   "outputs": [],
   "source": [
    "import warnings\n",
    "warnings.filterwarnings('ignore')"
   ]
  },
  {
   "cell_type": "code",
   "execution_count": 2,
   "id": "c7d8046a-9685-45e7-8c8d-74b0c654a99d",
   "metadata": {
    "height": 47
   },
   "outputs": [],
   "source": [
    "import sys\n",
    "sys.path.append(\"..\")\n",
    "from helper import load_env\n",
    "load_env()"
   ]
  },
  {
   "cell_type": "markdown",
   "id": "7ca01476-ddc8-47ef-b6c9-d03dc3e6cd30",
   "metadata": {},
   "source": [
    "## Staring with Components"
   ]
  },
  {
   "cell_type": "markdown",
   "id": "795571f3",
   "metadata": {},
   "source": [
    "[Componets](https://docs.haystack.deepset.ai/docs/components) are the building blocks of a pipeline. The componets we create can have MIMO, and we will use them to fetch information, to store and handle it.\n",
    "\n",
    "Haystack already provides many ready-made components that allow us to work with Generators ( LLM that will augment our answers or queries), Embedders ( that will evaluate and vectorize our queries/documents), retrievers (that will fetch information from databases) or converters (from different file formats), but it is also possible to create our own components."
   ]
  },
  {
   "cell_type": "markdown",
   "id": "4a111800",
   "metadata": {},
   "source": [
    "As a first example we can see [OpenAIGenerator()](https://docs.haystack.deepset.ai/docs/openaigenerator). This component will alow us to have a generator to specifically deliver a precise response from any queries we do in our pipelines.\n",
    "\n",
    "In Deeplearning AI notebooks, there is no set-up needed but when we want to integrate our local LLM to our Haystack application, we have to get our server url and our model name and initialize it this way : "
   ]
  },
  {
   "cell_type": "code",
   "execution_count": 5,
   "id": "dffdb240",
   "metadata": {},
   "outputs": [],
   "source": [
    "from helper import get_env_var\n",
    "API_BASE_URL = get_env_var(\"API_BASE_URL\")"
   ]
  },
  {
   "cell_type": "code",
   "execution_count": 6,
   "id": "11365c51",
   "metadata": {},
   "outputs": [],
   "source": [
    "from haystack.components.generators import OpenAIGenerator\n",
    "from haystack.utils import Secret\n",
    "\n",
    "llm = OpenAIGenerator(\n",
    "    api_base_url=API_BASE_URL,\n",
    "    api_key=Secret.from_token(\"not-needed\"),\n",
    "    model=\"phi-3-mini-4k-instruct\",\n",
    "    timeout=360) "
   ]
  },
  {
   "cell_type": "markdown",
   "id": "1c78f4ee",
   "metadata": {},
   "source": [
    "We won't use this until the next notebook, but it is good if we have it already set up :) "
   ]
  },
  {
   "cell_type": "markdown",
   "id": "d24586a5",
   "metadata": {},
   "source": [
    "Sometimes, some components need some extra steps when being set up. We will use here all-MiniLM-L6, which is a small and free alternative sentence transofrmer"
   ]
  },
  {
   "cell_type": "code",
   "execution_count": 14,
   "id": "a3ab0d4c-3270-4904-af40-d3a2e0fba9f6",
   "metadata": {
    "height": 64
   },
   "outputs": [],
   "source": [
    "from haystack.components.embedders import SentenceTransformersDocumentEmbedder\n",
    "\n",
    "\n",
    "embedder = SentenceTransformersDocumentEmbedder(model=\"sentence-transformers/all-MiniLM-L6-v2\")\n"
   ]
  },
  {
   "cell_type": "markdown",
   "id": "ab0a931a",
   "metadata": {},
   "source": [
    "We can see now what type of inputs this component accepts and what type of output provides : "
   ]
  },
  {
   "cell_type": "code",
   "execution_count": 15,
   "id": "3647e9ce",
   "metadata": {},
   "outputs": [
    {
     "data": {
      "text/plain": [
       "<haystack.components.embedders.sentence_transformers_document_embedder.SentenceTransformersDocumentEmbedder object at 0x793bcb08f650>\n",
       "Inputs:\n",
       "  - documents: List[Document]\n",
       "Outputs:\n",
       "  - documents: List[Document]"
      ]
     },
     "execution_count": 15,
     "metadata": {},
     "output_type": "execute_result"
    }
   ],
   "source": [
    "embedder"
   ]
  },
  {
   "cell_type": "markdown",
   "id": "94e0b5f7",
   "metadata": {},
   "source": [
    "As we mentioned before, some components need a specific setup. In this case, when we create a embedder object, we need to do a warm up."
   ]
  },
  {
   "cell_type": "code",
   "execution_count": null,
   "id": "e8bc48cf-c19b-4514-b40e-6519855d6148",
   "metadata": {
    "height": 115
   },
   "outputs": [
    {
     "name": "stderr",
     "output_type": "stream",
     "text": [
      "Calculating embeddings: 100%|██████████| 1/1 [00:00<00:00,  3.63it/s]\n"
     ]
    },
    {
     "data": {
      "text/plain": [
       "{'documents': [Document(id=cca6283a4f41557c49df1c5087a6be0ec172815a8d0c811e435caf6b1a93e0b4, content: 'Haystack is an open source AI framework to build full AI applications in Python', embedding: vector of size 1536),\n",
       "  Document(id=11ee1490e1dc5cd44361b1541008891b0b40aabd4d5bb2da6a2499f23e6120f7, content: 'You can build AI Pipelines by combining Components', embedding: vector of size 1536)],\n",
       " 'meta': {'model': 'text-embedding-3-small',\n",
       "  'usage': {'prompt_tokens': 24, 'total_tokens': 24}}}"
      ]
     },
     "execution_count": 5,
     "metadata": {},
     "output_type": "execute_result"
    }
   ],
   "source": [
    "from haystack.dataclasses import Document\n",
    "\n",
    "documents = [Document(content=\"Haystack is an open source AI framework to build full AI applications in Python\"),\n",
    "             Document(content=\"You can build AI Pipelines by combining Components\"),]\n",
    "\n",
    "embedder.warm_up()\n",
    "embedder.run(documents=documents)"
   ]
  },
  {
   "cell_type": "markdown",
   "id": "a5a80062-7da6-4402-955c-3e66c084f008",
   "metadata": {},
   "source": [
    "## Pipelines\n",
    "\n"
   ]
  },
  {
   "cell_type": "markdown",
   "id": "a3477660",
   "metadata": {},
   "source": [
    "Pipelines are creating by connecting different components and they are needed to follow a specific stream of data from the original source to the end user. Normally, we will store part or all the information in document stores in our application, depending the magnitude of information and type of application we want to create."
   ]
  },
  {
   "cell_type": "markdown",
   "id": "def457ff",
   "metadata": {},
   "source": [
    "### Initialize a Document Store\n",
    "\n",
    "Check out other available [Document Stores](https://docs.haystack.deepset.ai/docs/document-store?utm_campaign=developer-relations&utm_source=dlai). In this example, we will use the simplest document store that has no setup requirements, the [`InMemoryDocumentStore`](https://docs.haystack.deepset.ai/docs/inmemorydocumentstore?utm_campaign=developer-relations&utm_source=dlai)."
   ]
  },
  {
   "cell_type": "code",
   "execution_count": 18,
   "id": "833acda7-69ff-4910-b804-5b5e1055ed25",
   "metadata": {
    "height": 64
   },
   "outputs": [],
   "source": [
    "from haystack.document_stores.in_memory import InMemoryDocumentStore\n",
    "\n",
    "document_store = InMemoryDocumentStore()"
   ]
  },
  {
   "cell_type": "markdown",
   "id": "faec1072-2e4e-4af6-aae0-abb843094773",
   "metadata": {},
   "source": [
    "### Creating an indexing pipeline : Writing into a document store\n"
   ]
  },
  {
   "cell_type": "markdown",
   "id": "66af181e",
   "metadata": {},
   "source": [
    "We are now creating an indexing pipeline.\n",
    "\n",
    "We will import all the components that we need and instantiate them. \n",
    "After creating a pipeline object, we can then connect these components through the pipeline. It is optional (but recommended when we have multiple inputs) to specify how we connect the components, and normally it is quite straight forward.\n",
    "\n",
    "We are using some default parameters, as for now we don't have any special specification for our pipeline."
   ]
  },
  {
   "cell_type": "code",
   "execution_count": 23,
   "id": "ea1fe641",
   "metadata": {},
   "outputs": [],
   "source": [
    "from haystack.components.embedders import SentenceTransformersDocumentEmbedder\n",
    "from haystack import Pipeline\n",
    "\n",
    "from haystack.components.converters.txt import TextFileToDocument\n",
    "from haystack.components.preprocessors.document_splitter import DocumentSplitter\n",
    "from haystack.components.writers import DocumentWriter\n",
    "\n",
    "converter = TextFileToDocument()\n",
    "splitter = DocumentSplitter()\n",
    "embedder = SentenceTransformersDocumentEmbedder(model=\"sentence-transformers/all-MiniLM-L6-v2\")\n",
    "writer = DocumentWriter(document_store=document_store)\n",
    "\n",
    "indexing_pipeline = Pipeline()\n",
    "\n",
    "indexing_pipeline.add_component(\"converter\", converter)\n",
    "indexing_pipeline.add_component(\"splitter\", splitter)\n",
    "indexing_pipeline.add_component(\"embedder\", embedder)\n",
    "indexing_pipeline.add_component(\"writer\", writer)"
   ]
  },
  {
   "cell_type": "markdown",
   "id": "e4cab103",
   "metadata": {},
   "source": [
    "What this indexing pipeline will do is fetch a text file with the **converter** and convert it into **documents**, the core data structure used in Haystack.\n",
    "After we have the our documents, the **splitter** with slice them into smaller chunks and the **embedder** will assign vectorized values to the documents. At the end of the pipeline, the **writter** will store the documents along the vectorized values into a document store."
   ]
  },
  {
   "cell_type": "markdown",
   "id": "0e97387b-71c2-401a-9206-74e29626ce4d",
   "metadata": {},
   "source": [
    "#### Connecting Components"
   ]
  },
  {
   "cell_type": "markdown",
   "id": "4a3f4db5",
   "metadata": {},
   "source": [
    "Now that we have our pipeline and we have our components added, we have to still connect them as there is no specific way the pipeline know how we will use them.\n",
    "\n",
    "As we connect the component, we can see how the pipeline has connected the component and what input and outputs has decided to connect if we haven't made any specifications."
   ]
  },
  {
   "cell_type": "code",
   "execution_count": 24,
   "id": "570405d2-2517-43c7-a29d-cc4c0ffbff24",
   "metadata": {
    "height": 64
   },
   "outputs": [
    {
     "data": {
      "text/plain": [
       "<haystack.core.pipeline.pipeline.Pipeline object at 0x793b66e2aba0>\n",
       "🚅 Components\n",
       "  - converter: TextFileToDocument\n",
       "  - splitter: DocumentSplitter\n",
       "  - embedder: SentenceTransformersDocumentEmbedder\n",
       "  - writer: DocumentWriter\n",
       "🛤️ Connections\n",
       "  - converter.documents -> splitter.documents (List[Document])\n",
       "  - splitter.documents -> embedder.documents (List[Document])\n",
       "  - embedder.documents -> writer.documents (List[Document])"
      ]
     },
     "execution_count": 24,
     "metadata": {},
     "output_type": "execute_result"
    }
   ],
   "source": [
    "indexing_pipeline.connect(\"converter\", \"splitter\")\n",
    "indexing_pipeline.connect(\"splitter\", \"embedder\")\n",
    "indexing_pipeline.connect(\"embedder\", \"writer\")"
   ]
  },
  {
   "cell_type": "markdown",
   "id": "c5a50650",
   "metadata": {},
   "source": [
    "We can also visualize our pipeline using .show()."
   ]
  },
  {
   "cell_type": "code",
   "execution_count": 25,
   "id": "81bb8d46-91c4-4dfd-a9d5-cca9b463105d",
   "metadata": {
    "height": 30
   },
   "outputs": [
    {
     "data": {
      "image/png": "[encoded data removed]",
      "text/plain": [
       "<IPython.core.display.Image object>"
      ]
     },
     "metadata": {},
     "output_type": "display_data"
    }
   ],
   "source": [
    "indexing_pipeline.show()"
   ]
  },
  {
   "cell_type": "markdown",
   "id": "a4490ca0",
   "metadata": {},
   "source": [
    "If we are satisfied with how we have created and connected our pipeline, we can then run it."
   ]
  },
  {
   "cell_type": "markdown",
   "id": "369efbd7-f94c-468d-9de5-872dc2567a94",
   "metadata": {},
   "source": [
    "#### Running Pipelines\n"
   ]
  },
  {
   "cell_type": "markdown",
   "id": "08ce327c",
   "metadata": {},
   "source": [
    "For this example, we are using the document provided by the Haystack lesson davinci.txt which has some information related to his life.\n",
    "\n",
    "Let's try to run it."
   ]
  },
  {
   "cell_type": "code",
   "execution_count": 10,
   "id": "93396169-0559-4fce-ad5e-bbd28f30c5ca",
   "metadata": {
    "height": 30
   },
   "outputs": [
    {
     "name": "stderr",
     "output_type": "stream",
     "text": [
      "Calculating embeddings: 100%|██████████| 2/2 [00:00<00:00,  2.42it/s]\n"
     ]
    },
    {
     "data": {
      "text/plain": [
       "{'embedder': {'meta': {'model': 'text-embedding-ada-002-v2',\n",
       "   'usage': {'prompt_tokens': 14631, 'total_tokens': 14631}}},\n",
       " 'writer': {'documents_written': 47}}"
      ]
     },
     "execution_count": 10,
     "metadata": {},
     "output_type": "execute_result"
    }
   ],
   "source": [
    "indexing_pipeline.run({\"converter\": {\"sources\": ['data/davinci.txt']}})"
   ]
  },
  {
   "cell_type": "markdown",
   "id": "26fbbc4d",
   "metadata": {},
   "source": [
    "In the final step of our indexing_pipeline, the **writer** component stores the documents that have been converted and vectorized into the document store. Let's take a look into the document store :"
   ]
  },
  {
   "cell_type": "code",
   "execution_count": 28,
   "id": "e734f650",
   "metadata": {},
   "outputs": [
    {
     "data": {
      "text/plain": [
       "'Leonardo\\'s achievements it is necessary to\\nregard him as a scientist quite as much as an artist, as a philosopher\\nno less than a painter, and as a draughtsman rather than a colourist.\\nThere is hardly a branch of human learning to which he did not at\\none time or another give his eager attention, and he was engrossed in\\nturn by the study of architecture--the foundation-stone of all true\\nart--sculpture, mathematics, engineering and music. His versatility\\nwas unbounded, and we are apt to regret that this many-sided genius\\ndid not realise that it is by developing his power within certain\\nlimits that the great master is revealed. Leonardo may be described as\\nthe most Universal Genius of Christian times-perhaps of all time.\\n\\n[Illustration: PLATE III.-THE VIRGIN OF THE ROCKS\\n\\nIn the National Gallery. No. 1093. 6 ft. ½ in. h. by 3 ft 9 ½ in. w.\\n(1.83 x 1.15)\\n\\nThis picture was painted in Milan about 1495 by Ambrogio da Predis\\nunder the supervision and guidance of Leonardo da Vinci, the\\nessential features of the composition being borrowed from the earlier\\n\"Vierge aux Rochers,\" now in the Louvre.]\\n\\n\\n\\n\\nHIS EARLY WORKS\\n\\nTo about the year 1472 belongs the small picture of the\\n\"Annunciation,\" now in the Louvre, which after being the subject of\\nmuch contention among European critics has '"
      ]
     },
     "execution_count": 28,
     "metadata": {},
     "output_type": "execute_result"
    }
   ],
   "source": [
    "document_store.filter_documents()[5].content"
   ]
  },
  {
   "cell_type": "markdown",
   "id": "61750f54-f993-4933-9fc1-5df55d6e6d13",
   "metadata": {},
   "source": [
    "### Creating an searching pipeline : Searching from a document store"
   ]
  },
  {
   "cell_type": "markdown",
   "id": "1c49e195",
   "metadata": {},
   "source": [
    "Similarly to what we did before, we will create now a new pipeline. This time, we will search for the documents that we have available at the document store."
   ]
  },
  {
   "cell_type": "code",
   "execution_count": null,
   "id": "21fee0d5",
   "metadata": {},
   "outputs": [
    {
     "data": {
      "text/plain": [
       "<haystack.core.pipeline.pipeline.Pipeline object at 0x793b6462bc80>\n",
       "🚅 Components\n",
       "  - query_embedder: SentenceTransformersTextEmbedder\n",
       "  - retriever: InMemoryEmbeddingRetriever\n",
       "🛤️ Connections\n",
       "  - query_embedder.embedding -> retriever.query_embedding (List[float])"
      ]
     },
     "execution_count": 30,
     "metadata": {},
     "output_type": "execute_result"
    }
   ],
   "source": [
    "from haystack.components.embedders import SentenceTransformersTextEmbedder\n",
    "from haystack.components.retrievers.in_memory import InMemoryEmbeddingRetriever\n",
    "\n",
    "\n",
    "query_embedder = SentenceTransformersTextEmbedder(model=\"sentence-transformers/all-MiniLM-L6-v2\")\n",
    "retriever = InMemoryEmbeddingRetriever(document_store=document_store)\n",
    "\n",
    "document_search = Pipeline()\n",
    "\n",
    "document_search.add_component(\"query_embedder\", query_embedder)\n",
    "document_search.add_component(\"retriever\", retriever)\n",
    "\n",
    "document_search.connect(\"query_embedder.embedding\", \"retriever.query_embedding\")\n"
   ]
  },
  {
   "cell_type": "code",
   "execution_count": 31,
   "id": "a5c1f792-fcbd-4752-a4ad-aa5f6364d0d7",
   "metadata": {
    "height": 30
   },
   "outputs": [
    {
     "data": {
      "image/png": "[encoded data removed]",
      "text/plain": [
       "<IPython.core.display.Image object>"
      ]
     },
     "metadata": {},
     "output_type": "display_data"
    }
   ],
   "source": [
    "document_search.show()"
   ]
  },
  {
   "cell_type": "code",
   "execution_count": 15,
   "id": "38d5e8a6-0d58-40dc-b0db-0572a70809aa",
   "metadata": {
    "height": 166
   },
   "outputs": [
    {
     "name": "stdout",
     "output_type": "stream",
     "text": [
      "\n",
      "--------------\n",
      "\n",
      "DOCUMENT 0\n",
      "CHRIST, AND ST. ANNE\r\n",
      "\r\n",
      "In the Louvre. No. 1508. 5 ft. 7 in. h. by 4 ft. 3 in. w. (1.70 x\r\n",
      "1.29)\r\n",
      "\r\n",
      "Painted between 1509 and 1516 with the help of assistants.]\r\n",
      "\r\n",
      "On October 10, 1516, when he was resident at the Manor House of Cloux\r\n",
      "near Amboise in Touraine with Francesco Melzi, his friend and\r\n",
      "assistant, he showed three of his pictures to the Cardinal of Aragon,\r\n",
      "but his right hand was now paralysed, and he could \"no longer colour\r\n",
      "with that sweetness with which he was wont, although still able to\r\n",
      "make drawings and to teach others.\"\r\n",
      "\r\n",
      "It was no doubt in these closing years of his life that he drew the\r\n",
      "\"Portrait of Himself\" in red chalk, now at Turin, which is probably\r\n",
      "the only authentic portrait of him in existence.\r\n",
      "\r\n",
      "\r\n",
      "\r\n",
      "HIS DEATH\r\n",
      "\r\n",
      "On April 23, 1519--Easter Eve--exactly forty-five years before the\r\n",
      "birth of Shakespeare, Leonardo da Vinci made his will, and on May 2 of\r\n",
      "the same year he passed away.\r\n",
      "\r\n",
      "Vasari informs us that Leonardo, \"having become old, lay sick for many\r\n",
      "months, and finding himself near death and being sustained in the arms\r\n",
      "of his servants and friends, devoutly received the Holy Sacrament. He\r\n",
      "was then seized with a paroxysm, the forerunner of death, when King\r\n",
      "Francis I., who was accustomed frequently and affectionately \n",
      "\n",
      "--------------\n",
      "\n",
      "DOCUMENT 1\n",
      "2.18)\r\n",
      "\r\n",
      "Although this panel is included in the Uffizi Catalogue as being by\r\n",
      "Leonardo, it is in all probability by his master, Verrocchio.]\r\n",
      "\r\n",
      "The date of Leonardo's birth is not known with any certainty. His age\r\n",
      "is given as five in a taxation return made in 1457 by his grandfather\r\n",
      "Antonio, in whose house he was educated; it is therefore concluded\r\n",
      "that he was born in 1452. Leonardo's father Ser Piero, who afterwards\r\n",
      "married four times, had eleven children by his third and fourth wives.\r\n",
      "Is it unreasonable to suggest that Leonardo may have had these numbers\r\n",
      "in mind in 1496-1498 when he was painting in his famous \"Last Supper\"\r\n",
      "the figures of eleven Apostles and one outcast?\r\n",
      "\r\n",
      "However, Ser Piero seems to have legitimised his \"love child\" who very\r\n",
      "early showed promise of extraordinary talent and untiring energy.\r\n",
      "\r\n",
      "\r\n",
      "\r\n",
      "\r\n",
      "HIS EARLY TRAINING\r\n",
      "\r\n",
      "Practically nothing is known about Leonardo's boyhood, but Vasari\r\n",
      "informs us that Ser Piero, impressed with the remarkable character of\r\n",
      "his son's genius, took some of his drawings to Andrea del Verrocchio,\r\n",
      "an intimate friend, and begged him earnestly to express an opinion on\r\n",
      "them. Verrocchio was so astonished at the power they revealed that he\r\n",
      "advised Ser Piero to send Leonardo to study under him. Leonardo thus\r\n",
      "entered the studio of Andrea del Verrocchio about 1469-1470. In \n",
      "\n",
      "--------------\n",
      "\n",
      "DOCUMENT 2\n",
      "to visit\r\n",
      "him, rose and supported his head to give him such assistance and to do\r\n",
      "him such favour as he could in the hope of alleviating his sufferings.\r\n",
      "The spirit of Leonardo, which was most divine, conscious that he could\r\n",
      "attain to no greater honour, departed in the arms of the monarch,\r\n",
      "being at that time in the seventy-fifth year of his age.\" The not\r\n",
      "over-veracious chronicler, however, is here drawing largely upon his\r\n",
      "imagination. Leonardo was only sixty-seven years of age, and the King\r\n",
      "was in all probability on that date at St. Germain-en Laye!\r\n",
      "\r\n",
      "Thus died \"Mr. Lionard de Vincy, the noble Milanese, painter,\r\n",
      "engineer, and architect to the King, State Mechanician\" and \"former\r\n",
      "Professor of Painting to the Duke of Milan.\"\r\n",
      "\r\n",
      "\"May God Almighty grant him His eternal peace,\" wrote his friend and\r\n",
      "assistant Francesco Melzi. \"Every one laments the loss of a man whose\r\n",
      "like Nature cannot produce a second time.\"\r\n",
      "\r\n",
      "\r\n",
      "\r\n",
      "HIS ART\r\n",
      "\r\n",
      "Leonardo, whose birth antedates that of Michelangelo and Raphael by\r\n",
      "twenty three and thirty-one years respectively, was thus in the\r\n",
      "forefront of the Florentine Renaissance, his life coinciding almost\r\n",
      "exactly with the best period of Tuscan painting.\r\n",
      "\r\n",
      "Leonardo was the first to investigate scientifically and to apply to\r\n",
      "art the laws of light and shade, though the preliminary investigations\r\n",
      "of Piero della Francesca deserve \n"
     ]
    }
   ],
   "source": [
    "question = \"How old was Davinci when he died?\"\n",
    "\n",
    "results = document_search.run({\"query_embedder\": {\"text\": question},\n",
    "                               \"retriever\": {\"top_k\": 3}})\n",
    "\n",
    "for i, document in enumerate(results[\"retriever\"][\"documents\"]):\n",
    "    print(\"\\n--------------\\n\")\n",
    "    print(f\"DOCUMENT {i}\")\n",
    "    print(document.content)"
   ]
  },
  {
   "cell_type": "markdown",
   "id": "c8e427ea",
   "metadata": {},
   "source": [
    "We can try to use different top_k for the retriever. This will make the retriever fetch a specific amount of documents that given the vectorized values, can be closer to the specific query we have made before.\n",
    "\n",
    "Chosing a good top_k value will be important in the next lesson as it will have a big impact in the performance of our Generators and our pipelines."
   ]
  },
  {
   "cell_type": "code",
   "execution_count": 16,
   "id": "605b71d1-c55c-44a9-b527-3c5445799ef1",
   "metadata": {
    "height": 166
   },
   "outputs": [
    {
     "name": "stdout",
     "output_type": "stream",
     "text": [
      "\n",
      "--------------\n",
      "\n",
      "DOCUMENT 0\n",
      " In the Louvre\r\n",
      "\r\n",
      "\r\n",
      "\r\n",
      "\r\n",
      "HIS BIRTH\r\n",
      "\r\n",
      "Leonardo Da Vinci, the many-sided genius of the Italian Renaissance,\r\n",
      "was born, as his name implies, at the little town of Vinci, which is\r\n",
      "about six miles from Empoli and twenty miles west of Florence. Vinci\r\n",
      "is still very inaccessible, and the only means of conveyance is the\r\n",
      "cart of a general carrier and postman, who sets out on his journey\r\n",
      "from Empoli at sunrise and sunset. Outside a house in the middle of\r\n",
      "the main street of Vinci to-day a modern and white-washed bust of the\r\n",
      "great artist is pointed to with much pride by the inhabitants.\r\n",
      "Leonardo's traditional birthplace on the outskirts of the town still\r\n",
      "exists, and serves now as the headquarters of a farmer and small wine\r\n",
      "exporter.\r\n",
      "\r\n",
      "Leonardo di Ser Piero d'Antonio di Ser Piero di Ser Guido da\r\n",
      "Vinci--for that was his full legal name--was the natural and\r\n",
      "first-born son of Ser Piero, a country notary, who, like his father,\r\n",
      "grandfather, and great-grandfather, followed that honourable\r\n",
      "vocation with distinction and success, and who subsequently--when\r\n",
      "Leonardo was a youth--was appointed notary to the Signoria of\r\n",
      "Florence. Leonardo's mother was one Caterina, who afterwards married\r\n",
      "Accabriga di Piero del Vaccha of Vinci.\r\n",
      "\r\n",
      "[Illustration: Plate II.--Annunciation\r\n",
      "\r\n",
      "In the Uffizi Gallery, Florence. No. 1288. 3 ft 3 ins. By 6 ft 11 ins.\r\n",
      "(0.99 x \n"
     ]
    }
   ],
   "source": [
    "question = \"Where was Davinci born?\"\n",
    "\n",
    "results = document_search.run({\"query_embedder\": {\"text\": question},\n",
    "                               \"retriever\": {\"top_k\": 1}})\n",
    "\n",
    "for i, document in enumerate(results[\"retriever\"][\"documents\"]):\n",
    "    print(\"\\n--------------\\n\")\n",
    "    print(f\"DOCUMENT {i}\")\n",
    "    print(document.content)"
   ]
  }
 ],
 "metadata": {
  "kernelspec": {
   "display_name": "venv39gpu",
   "language": "python",
   "name": "python3"
  },
  "language_info": {
   "codemirror_mode": {
    "name": "ipython",
    "version": 3
   },
   "file_extension": ".py",
   "mimetype": "text/x-python",
   "name": "python",
   "nbconvert_exporter": "python",
   "pygments_lexer": "ipython3",
   "version": "3.12.3"
  }
 },
 "nbformat": 4,
 "nbformat_minor": 5
}
